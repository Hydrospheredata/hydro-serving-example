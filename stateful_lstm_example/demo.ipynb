{
 "cells": [
  {
   "cell_type": "code",
   "execution_count": 1,
   "metadata": {},
   "outputs": [
    {
     "name": "stdout",
     "output_type": "stream",
     "text": [
      "Requirement already satisfied: docker in /Users/bulat/anaconda/envs/tensorflow/lib/python3.6/site-packages\n",
      "Requirement already satisfied: docker-pycreds>=0.2.1 in /Users/bulat/anaconda/envs/tensorflow/lib/python3.6/site-packages (from docker)\n",
      "Requirement already satisfied: six>=1.4.0 in /Users/bulat/anaconda/envs/tensorflow/lib/python3.6/site-packages (from docker)\n",
      "Requirement already satisfied: websocket-client>=0.32.0 in /Users/bulat/anaconda/envs/tensorflow/lib/python3.6/site-packages (from docker)\n",
      "Requirement already satisfied: requests!=2.18.0,>=2.14.2 in /Users/bulat/anaconda/envs/tensorflow/lib/python3.6/site-packages (from docker)\n",
      "Requirement already satisfied: chardet<3.1.0,>=3.0.2 in /Users/bulat/anaconda/envs/tensorflow/lib/python3.6/site-packages (from requests!=2.18.0,>=2.14.2->docker)\n",
      "Requirement already satisfied: urllib3<1.23,>=1.21.1 in /Users/bulat/anaconda/envs/tensorflow/lib/python3.6/site-packages (from requests!=2.18.0,>=2.14.2->docker)\n",
      "Requirement already satisfied: certifi>=2017.4.17 in /Users/bulat/anaconda/envs/tensorflow/lib/python3.6/site-packages (from requests!=2.18.0,>=2.14.2->docker)\n",
      "Requirement already satisfied: idna<2.7,>=2.5 in /Users/bulat/anaconda/envs/tensorflow/lib/python3.6/site-packages (from requests!=2.18.0,>=2.14.2->docker)\n",
      "\u001b[33mYou are using pip version 9.0.1, however version 10.0.0 is available.\n",
      "You should consider upgrading via the 'pip install --upgrade pip' command.\u001b[0m\n",
      "Requirement already satisfied: opencv-python in /Users/bulat/anaconda/envs/tensorflow/lib/python3.6/site-packages\n",
      "Requirement already satisfied: numpy>=1.11.1 in /Users/bulat/anaconda/envs/tensorflow/lib/python3.6/site-packages (from opencv-python)\n",
      "\u001b[33mYou are using pip version 9.0.1, however version 10.0.0 is available.\n",
      "You should consider upgrading via the 'pip install --upgrade pip' command.\u001b[0m\n",
      "Unable to locate an executable at \"/Library/Java/JavaVirtualMachines/jdk1.8.0_131.jdk/Contents/Home/bin/apt\" (-1)\n",
      "Requirement already satisfied: hydro_serving_grpc in /Users/bulat/anaconda/envs/tensorflow/lib/python3.6/site-packages\n",
      "Requirement already satisfied: protobuf>=3.3.0 in /Users/bulat/anaconda/envs/tensorflow/lib/python3.6/site-packages (from hydro_serving_grpc)\n",
      "Requirement already satisfied: grpcio>=1.7.0 in /Users/bulat/anaconda/envs/tensorflow/lib/python3.6/site-packages (from hydro_serving_grpc)\n",
      "Requirement already satisfied: setuptools in /Users/bulat/anaconda/envs/tensorflow/lib/python3.6/site-packages (from protobuf>=3.3.0->hydro_serving_grpc)\n",
      "Requirement already satisfied: six>=1.9 in /Users/bulat/anaconda/envs/tensorflow/lib/python3.6/site-packages (from protobuf>=3.3.0->hydro_serving_grpc)\n",
      "\u001b[33mYou are using pip version 9.0.1, however version 10.0.0 is available.\n",
      "You should consider upgrading via the 'pip install --upgrade pip' command.\u001b[0m\n",
      "Requirement already satisfied: hs in /Users/bulat/anaconda/envs/tensorflow/lib/python3.6/site-packages\n",
      "Requirement already satisfied: click==6.7 in /Users/bulat/anaconda/envs/tensorflow/lib/python3.6/site-packages (from hs)\n",
      "Requirement already satisfied: docker==3.0.1 in /Users/bulat/anaconda/envs/tensorflow/lib/python3.6/site-packages (from hs)\n",
      "Requirement already satisfied: pyyaml in /Users/bulat/anaconda/envs/tensorflow/lib/python3.6/site-packages (from hs)\n",
      "Requirement already satisfied: kafka-python==1.4.1 in /Users/bulat/anaconda/envs/tensorflow/lib/python3.6/site-packages (from hs)\n",
      "Requirement already satisfied: hydro-serving-grpc==0.0.14 in /Users/bulat/anaconda/envs/tensorflow/lib/python3.6/site-packages (from hs)\n",
      "Requirement already satisfied: websocket-client>=0.32.0 in /Users/bulat/anaconda/envs/tensorflow/lib/python3.6/site-packages (from docker==3.0.1->hs)\n",
      "Requirement already satisfied: six>=1.4.0 in /Users/bulat/anaconda/envs/tensorflow/lib/python3.6/site-packages (from docker==3.0.1->hs)\n",
      "Requirement already satisfied: requests!=2.18.0,>=2.14.2 in /Users/bulat/anaconda/envs/tensorflow/lib/python3.6/site-packages (from docker==3.0.1->hs)\n",
      "Requirement already satisfied: docker-pycreds>=0.2.1 in /Users/bulat/anaconda/envs/tensorflow/lib/python3.6/site-packages (from docker==3.0.1->hs)\n",
      "Requirement already satisfied: protobuf>=3.3.0 in /Users/bulat/anaconda/envs/tensorflow/lib/python3.6/site-packages (from hydro-serving-grpc==0.0.14->hs)\n",
      "Requirement already satisfied: grpcio>=1.7.0 in /Users/bulat/anaconda/envs/tensorflow/lib/python3.6/site-packages (from hydro-serving-grpc==0.0.14->hs)\n",
      "Requirement already satisfied: idna<2.7,>=2.5 in /Users/bulat/anaconda/envs/tensorflow/lib/python3.6/site-packages (from requests!=2.18.0,>=2.14.2->docker==3.0.1->hs)\n",
      "Requirement already satisfied: urllib3<1.23,>=1.21.1 in /Users/bulat/anaconda/envs/tensorflow/lib/python3.6/site-packages (from requests!=2.18.0,>=2.14.2->docker==3.0.1->hs)\n",
      "Requirement already satisfied: certifi>=2017.4.17 in /Users/bulat/anaconda/envs/tensorflow/lib/python3.6/site-packages (from requests!=2.18.0,>=2.14.2->docker==3.0.1->hs)\n",
      "Requirement already satisfied: chardet<3.1.0,>=3.0.2 in /Users/bulat/anaconda/envs/tensorflow/lib/python3.6/site-packages (from requests!=2.18.0,>=2.14.2->docker==3.0.1->hs)\n",
      "Requirement already satisfied: setuptools in /Users/bulat/anaconda/envs/tensorflow/lib/python3.6/site-packages (from protobuf>=3.3.0->hydro-serving-grpc==0.0.14->hs)\n",
      "\u001b[33mYou are using pip version 9.0.1, however version 10.0.0 is available.\n",
      "You should consider upgrading via the 'pip install --upgrade pip' command.\u001b[0m\n",
      "Requirement already satisfied: protobuf==3.4.0 in /Users/bulat/anaconda/envs/tensorflow/lib/python3.6/site-packages\n",
      "Requirement already satisfied: six>=1.9 in /Users/bulat/anaconda/envs/tensorflow/lib/python3.6/site-packages (from protobuf==3.4.0)\n",
      "Requirement already satisfied: setuptools in /Users/bulat/anaconda/envs/tensorflow/lib/python3.6/site-packages (from protobuf==3.4.0)\n",
      "\u001b[33mYou are using pip version 9.0.1, however version 10.0.0 is available.\n",
      "You should consider upgrading via the 'pip install --upgrade pip' command.\u001b[0m\n"
     ]
    }
   ],
   "source": [
    "!pip install docker\n",
    "!pip install opencv-python\n",
    "!apt update && apt install -y libsm6 libxext6 libfontconfig1 libxrender1\n",
    "!pip install hydro_serving_grpc\n",
    "!pip install hs\n",
    "!pip install protobuf==3.4.0"
   ]
  },
  {
   "cell_type": "code",
   "execution_count": 1,
   "metadata": {},
   "outputs": [
    {
     "data": {
      "text/plain": [
       "[{'lastModelBuild': {'finished': '2018-04-26T18:47:20.468',\n",
       "   'id': 1,\n",
       "   'model': {'created': '2018-04-26T18:47:03.876',\n",
       "    'id': 1,\n",
       "    'modelContract': 'model_name: \"\"\\nsignatures {\\n  signature_name: \"detect\"\\n  inputs {\\n    name: \"result\"\\n    shape {\\n      dim {\\n        size: 1\\n        name: \"\"\\n      }\\n      dim {\\n        size: 4\\n        name: \"\"\\n      }\\n      unknown_rank: false\\n    }\\n    dtype: DT_DOUBLE\\n  }\\n  outputs {\\n    name: \"result\"\\n    shape {\\n      dim {\\n        size: 1\\n        name: \"\"\\n      }\\n      dim {\\n        size: 4\\n        name: \"\"\\n      }\\n      unknown_rank: false\\n    }\\n    dtype: DT_DOUBLE\\n  }\\n  outputs {\\n    name: \"anomaly\"\\n    dtype: DT_BOOL\\n  }\\n}\\n',\n",
       "    'modelType': 'python:3.6',\n",
       "    'name': 'demo_postprocessing',\n",
       "    'source': 'local:demo_postprocessing',\n",
       "    'updated': '2018-04-26T18:47:27.091'},\n",
       "   'modelVersion': {'created': '2018-04-26T18:47:20.454',\n",
       "    'id': 1,\n",
       "    'imageName': 'demo_postprocessing',\n",
       "    'imageSHA256': '2040ed2b9628bdd00001351f5e385b489fb459d29551764120c6c5a1c62d85ff',\n",
       "    'imageTag': '1',\n",
       "    'model': {'created': '2018-04-26T18:47:03.876',\n",
       "     'id': 1,\n",
       "     'modelContract': 'model_name: \"\"\\nsignatures {\\n  signature_name: \"detect\"\\n  inputs {\\n    name: \"result\"\\n    shape {\\n      dim {\\n        size: 1\\n        name: \"\"\\n      }\\n      dim {\\n        size: 4\\n        name: \"\"\\n      }\\n      unknown_rank: false\\n    }\\n    dtype: DT_DOUBLE\\n  }\\n  outputs {\\n    name: \"result\"\\n    shape {\\n      dim {\\n        size: 1\\n        name: \"\"\\n      }\\n      dim {\\n        size: 4\\n        name: \"\"\\n      }\\n      unknown_rank: false\\n    }\\n    dtype: DT_DOUBLE\\n  }\\n  outputs {\\n    name: \"anomaly\"\\n    dtype: DT_BOOL\\n  }\\n}\\n',\n",
       "     'modelType': 'python:3.6',\n",
       "     'name': 'demo_postprocessing',\n",
       "     'source': 'local:demo_postprocessing',\n",
       "     'updated': '2018-04-26T18:47:27.091'},\n",
       "    'modelContract': 'model_name: \"\"\\nsignatures {\\n  signature_name: \"detect\"\\n  inputs {\\n    name: \"result\"\\n    shape {\\n      dim {\\n        size: 1\\n        name: \"\"\\n      }\\n      dim {\\n        size: 4\\n        name: \"\"\\n      }\\n      unknown_rank: false\\n    }\\n    dtype: DT_DOUBLE\\n  }\\n  outputs {\\n    name: \"result\"\\n    shape {\\n      dim {\\n        size: 1\\n        name: \"\"\\n      }\\n      dim {\\n        size: 4\\n        name: \"\"\\n      }\\n      unknown_rank: false\\n    }\\n    dtype: DT_DOUBLE\\n  }\\n  outputs {\\n    name: \"anomaly\"\\n    dtype: DT_BOOL\\n  }\\n}\\n',\n",
       "    'modelName': 'demo_postprocessing',\n",
       "    'modelType': 'python:3.6',\n",
       "    'modelVersion': 1,\n",
       "    'source': 'local:demo_postprocessing'},\n",
       "   'started': '2018-04-26T18:47:18.009',\n",
       "   'status': 'FINISHED',\n",
       "   'statusText': 'OK',\n",
       "   'version': 1},\n",
       "  'lastModelVersion': {'created': '2018-04-26T18:47:20.454',\n",
       "   'id': 1,\n",
       "   'imageName': 'demo_postprocessing',\n",
       "   'imageSHA256': '2040ed2b9628bdd00001351f5e385b489fb459d29551764120c6c5a1c62d85ff',\n",
       "   'imageTag': '1',\n",
       "   'model': {'created': '2018-04-26T18:47:03.876',\n",
       "    'id': 1,\n",
       "    'modelContract': 'model_name: \"\"\\nsignatures {\\n  signature_name: \"detect\"\\n  inputs {\\n    name: \"result\"\\n    shape {\\n      dim {\\n        size: 1\\n        name: \"\"\\n      }\\n      dim {\\n        size: 4\\n        name: \"\"\\n      }\\n      unknown_rank: false\\n    }\\n    dtype: DT_DOUBLE\\n  }\\n  outputs {\\n    name: \"result\"\\n    shape {\\n      dim {\\n        size: 1\\n        name: \"\"\\n      }\\n      dim {\\n        size: 4\\n        name: \"\"\\n      }\\n      unknown_rank: false\\n    }\\n    dtype: DT_DOUBLE\\n  }\\n  outputs {\\n    name: \"anomaly\"\\n    dtype: DT_BOOL\\n  }\\n}\\n',\n",
       "    'modelType': 'python:3.6',\n",
       "    'name': 'demo_postprocessing',\n",
       "    'source': 'local:demo_postprocessing',\n",
       "    'updated': '2018-04-26T18:47:27.091'},\n",
       "   'modelContract': 'model_name: \"\"\\nsignatures {\\n  signature_name: \"detect\"\\n  inputs {\\n    name: \"result\"\\n    shape {\\n      dim {\\n        size: 1\\n        name: \"\"\\n      }\\n      dim {\\n        size: 4\\n        name: \"\"\\n      }\\n      unknown_rank: false\\n    }\\n    dtype: DT_DOUBLE\\n  }\\n  outputs {\\n    name: \"result\"\\n    shape {\\n      dim {\\n        size: 1\\n        name: \"\"\\n      }\\n      dim {\\n        size: 4\\n        name: \"\"\\n      }\\n      unknown_rank: false\\n    }\\n    dtype: DT_DOUBLE\\n  }\\n  outputs {\\n    name: \"anomaly\"\\n    dtype: DT_BOOL\\n  }\\n}\\n',\n",
       "   'modelName': 'demo_postprocessing',\n",
       "   'modelType': 'python:3.6',\n",
       "   'modelVersion': 1,\n",
       "   'source': 'local:demo_postprocessing'},\n",
       "  'model': {'created': '2018-04-26T18:47:03.876',\n",
       "   'id': 1,\n",
       "   'modelContract': 'model_name: \"\"\\nsignatures {\\n  signature_name: \"detect\"\\n  inputs {\\n    name: \"result\"\\n    shape {\\n      dim {\\n        size: 1\\n        name: \"\"\\n      }\\n      dim {\\n        size: 4\\n        name: \"\"\\n      }\\n      unknown_rank: false\\n    }\\n    dtype: DT_DOUBLE\\n  }\\n  outputs {\\n    name: \"result\"\\n    shape {\\n      dim {\\n        size: 1\\n        name: \"\"\\n      }\\n      dim {\\n        size: 4\\n        name: \"\"\\n      }\\n      unknown_rank: false\\n    }\\n    dtype: DT_DOUBLE\\n  }\\n  outputs {\\n    name: \"anomaly\"\\n    dtype: DT_BOOL\\n  }\\n}\\n',\n",
       "   'modelType': 'python:3.6',\n",
       "   'name': 'demo_postprocessing',\n",
       "   'source': 'local:demo_postprocessing',\n",
       "   'updated': '2018-04-26T18:47:27.091'},\n",
       "  'nextVersion': 2},\n",
       " {'lastModelBuild': {'finished': '2018-04-26T18:48:32.184',\n",
       "   'id': 2,\n",
       "   'model': {'created': '2018-04-26T18:47:46.496',\n",
       "    'id': 2,\n",
       "    'modelContract': 'model_name: \"\"\\nsignatures {\\n  signature_name: \"infer\"\\n  inputs {\\n    name: \"data\"\\n    shape {\\n      dim {\\n        size: -1\\n        name: \"\"\\n      }\\n      dim {\\n        size: -1\\n        name: \"\"\\n      }\\n      dim {\\n        size: 24\\n        name: \"\"\\n      }\\n      unknown_rank: false\\n    }\\n    dtype: DT_FLOAT\\n  }\\n  outputs {\\n    name: \"result\"\\n    shape {\\n      dim {\\n        size: 1\\n        name: \"\"\\n      }\\n      dim {\\n        size: 4\\n        name: \"\"\\n      }\\n      unknown_rank: false\\n    }\\n    dtype: DT_FLOAT\\n  }\\n}\\n',\n",
       "    'modelType': 'tensorflow',\n",
       "    'name': 'demo_lstm',\n",
       "    'source': 'local:demo_lstm',\n",
       "    'updated': '2018-04-26T18:47:46.496'},\n",
       "   'modelVersion': {'created': '2018-04-26T18:48:32.173',\n",
       "    'id': 2,\n",
       "    'imageName': 'demo_lstm',\n",
       "    'imageSHA256': '5d276e0997e6e125ceeb1217bf534e9157a79d782091007e4002127e0051d8ec',\n",
       "    'imageTag': '1',\n",
       "    'model': {'created': '2018-04-26T18:47:46.496',\n",
       "     'id': 2,\n",
       "     'modelContract': 'model_name: \"\"\\nsignatures {\\n  signature_name: \"infer\"\\n  inputs {\\n    name: \"data\"\\n    shape {\\n      dim {\\n        size: -1\\n        name: \"\"\\n      }\\n      dim {\\n        size: -1\\n        name: \"\"\\n      }\\n      dim {\\n        size: 24\\n        name: \"\"\\n      }\\n      unknown_rank: false\\n    }\\n    dtype: DT_FLOAT\\n  }\\n  outputs {\\n    name: \"result\"\\n    shape {\\n      dim {\\n        size: 1\\n        name: \"\"\\n      }\\n      dim {\\n        size: 4\\n        name: \"\"\\n      }\\n      unknown_rank: false\\n    }\\n    dtype: DT_FLOAT\\n  }\\n}\\n',\n",
       "     'modelType': 'tensorflow',\n",
       "     'name': 'demo_lstm',\n",
       "     'source': 'local:demo_lstm',\n",
       "     'updated': '2018-04-26T18:47:46.496'},\n",
       "    'modelContract': 'model_name: \"\"\\nsignatures {\\n  signature_name: \"infer\"\\n  inputs {\\n    name: \"data\"\\n    shape {\\n      dim {\\n        size: -1\\n        name: \"\"\\n      }\\n      dim {\\n        size: -1\\n        name: \"\"\\n      }\\n      dim {\\n        size: 24\\n        name: \"\"\\n      }\\n      unknown_rank: false\\n    }\\n    dtype: DT_FLOAT\\n  }\\n  outputs {\\n    name: \"result\"\\n    shape {\\n      dim {\\n        size: 1\\n        name: \"\"\\n      }\\n      dim {\\n        size: 4\\n        name: \"\"\\n      }\\n      unknown_rank: false\\n    }\\n    dtype: DT_FLOAT\\n  }\\n}\\n',\n",
       "    'modelName': 'demo_lstm',\n",
       "    'modelType': 'tensorflow',\n",
       "    'modelVersion': 1,\n",
       "    'source': 'local:demo_lstm'},\n",
       "   'started': '2018-04-26T18:48:29.266',\n",
       "   'status': 'FINISHED',\n",
       "   'statusText': 'OK',\n",
       "   'version': 1},\n",
       "  'lastModelVersion': {'created': '2018-04-26T18:48:32.173',\n",
       "   'id': 2,\n",
       "   'imageName': 'demo_lstm',\n",
       "   'imageSHA256': '5d276e0997e6e125ceeb1217bf534e9157a79d782091007e4002127e0051d8ec',\n",
       "   'imageTag': '1',\n",
       "   'model': {'created': '2018-04-26T18:47:46.496',\n",
       "    'id': 2,\n",
       "    'modelContract': 'model_name: \"\"\\nsignatures {\\n  signature_name: \"infer\"\\n  inputs {\\n    name: \"data\"\\n    shape {\\n      dim {\\n        size: -1\\n        name: \"\"\\n      }\\n      dim {\\n        size: -1\\n        name: \"\"\\n      }\\n      dim {\\n        size: 24\\n        name: \"\"\\n      }\\n      unknown_rank: false\\n    }\\n    dtype: DT_FLOAT\\n  }\\n  outputs {\\n    name: \"result\"\\n    shape {\\n      dim {\\n        size: 1\\n        name: \"\"\\n      }\\n      dim {\\n        size: 4\\n        name: \"\"\\n      }\\n      unknown_rank: false\\n    }\\n    dtype: DT_FLOAT\\n  }\\n}\\n',\n",
       "    'modelType': 'tensorflow',\n",
       "    'name': 'demo_lstm',\n",
       "    'source': 'local:demo_lstm',\n",
       "    'updated': '2018-04-26T18:47:46.496'},\n",
       "   'modelContract': 'model_name: \"\"\\nsignatures {\\n  signature_name: \"infer\"\\n  inputs {\\n    name: \"data\"\\n    shape {\\n      dim {\\n        size: -1\\n        name: \"\"\\n      }\\n      dim {\\n        size: -1\\n        name: \"\"\\n      }\\n      dim {\\n        size: 24\\n        name: \"\"\\n      }\\n      unknown_rank: false\\n    }\\n    dtype: DT_FLOAT\\n  }\\n  outputs {\\n    name: \"result\"\\n    shape {\\n      dim {\\n        size: 1\\n        name: \"\"\\n      }\\n      dim {\\n        size: 4\\n        name: \"\"\\n      }\\n      unknown_rank: false\\n    }\\n    dtype: DT_FLOAT\\n  }\\n}\\n',\n",
       "   'modelName': 'demo_lstm',\n",
       "   'modelType': 'tensorflow',\n",
       "   'modelVersion': 1,\n",
       "   'source': 'local:demo_lstm'},\n",
       "  'model': {'created': '2018-04-26T18:47:46.496',\n",
       "   'id': 2,\n",
       "   'modelContract': 'model_name: \"\"\\nsignatures {\\n  signature_name: \"infer\"\\n  inputs {\\n    name: \"data\"\\n    shape {\\n      dim {\\n        size: -1\\n        name: \"\"\\n      }\\n      dim {\\n        size: -1\\n        name: \"\"\\n      }\\n      dim {\\n        size: 24\\n        name: \"\"\\n      }\\n      unknown_rank: false\\n    }\\n    dtype: DT_FLOAT\\n  }\\n  outputs {\\n    name: \"result\"\\n    shape {\\n      dim {\\n        size: 1\\n        name: \"\"\\n      }\\n      dim {\\n        size: 4\\n        name: \"\"\\n      }\\n      unknown_rank: false\\n    }\\n    dtype: DT_FLOAT\\n  }\\n}\\n',\n",
       "   'modelType': 'tensorflow',\n",
       "   'name': 'demo_lstm',\n",
       "   'source': 'local:demo_lstm',\n",
       "   'updated': '2018-04-26T18:47:46.496'}},\n",
       " {'lastModelBuild': {'finished': '2018-04-26T18:48:36.59',\n",
       "   'id': 3,\n",
       "   'model': {'created': '2018-04-26T18:47:52.727',\n",
       "    'id': 3,\n",
       "    'modelContract': 'model_name: \"\"\\nsignatures {\\n  signature_name: \"normalize\"\\n  inputs {\\n    name: \"data\"\\n    shape {\\n      dim {\\n        size: 24\\n        name: \"\"\\n      }\\n      unknown_rank: false\\n    }\\n    dtype: DT_DOUBLE\\n  }\\n  outputs {\\n    name: \"data\"\\n    shape {\\n      dim {\\n        size: 1\\n        name: \"\"\\n      }\\n      dim {\\n        size: 1\\n        name: \"\"\\n      }\\n      dim {\\n        size: 24\\n        name: \"\"\\n      }\\n      unknown_rank: false\\n    }\\n    dtype: DT_DOUBLE\\n  }\\n}\\n',\n",
       "    'modelType': 'python:3.6',\n",
       "    'name': 'demo_preprocessing',\n",
       "    'source': 'local:demo_preprocessing',\n",
       "    'updated': '2018-04-26T18:47:52.727'},\n",
       "   'modelVersion': {'created': '2018-04-26T18:48:36.577',\n",
       "    'id': 3,\n",
       "    'imageName': 'demo_preprocessing',\n",
       "    'imageSHA256': '39105530a3ed1ac2967f4977352e1e32f6ce3e51380c7f4103fbec270ed4f205',\n",
       "    'imageTag': '1',\n",
       "    'model': {'created': '2018-04-26T18:47:52.727',\n",
       "     'id': 3,\n",
       "     'modelContract': 'model_name: \"\"\\nsignatures {\\n  signature_name: \"normalize\"\\n  inputs {\\n    name: \"data\"\\n    shape {\\n      dim {\\n        size: 24\\n        name: \"\"\\n      }\\n      unknown_rank: false\\n    }\\n    dtype: DT_DOUBLE\\n  }\\n  outputs {\\n    name: \"data\"\\n    shape {\\n      dim {\\n        size: 1\\n        name: \"\"\\n      }\\n      dim {\\n        size: 1\\n        name: \"\"\\n      }\\n      dim {\\n        size: 24\\n        name: \"\"\\n      }\\n      unknown_rank: false\\n    }\\n    dtype: DT_DOUBLE\\n  }\\n}\\n',\n",
       "     'modelType': 'python:3.6',\n",
       "     'name': 'demo_preprocessing',\n",
       "     'source': 'local:demo_preprocessing',\n",
       "     'updated': '2018-04-26T18:47:52.727'},\n",
       "    'modelContract': 'model_name: \"\"\\nsignatures {\\n  signature_name: \"normalize\"\\n  inputs {\\n    name: \"data\"\\n    shape {\\n      dim {\\n        size: 24\\n        name: \"\"\\n      }\\n      unknown_rank: false\\n    }\\n    dtype: DT_DOUBLE\\n  }\\n  outputs {\\n    name: \"data\"\\n    shape {\\n      dim {\\n        size: 1\\n        name: \"\"\\n      }\\n      dim {\\n        size: 1\\n        name: \"\"\\n      }\\n      dim {\\n        size: 24\\n        name: \"\"\\n      }\\n      unknown_rank: false\\n    }\\n    dtype: DT_DOUBLE\\n  }\\n}\\n',\n",
       "    'modelName': 'demo_preprocessing',\n",
       "    'modelType': 'python:3.6',\n",
       "    'modelVersion': 1,\n",
       "    'source': 'local:demo_preprocessing'},\n",
       "   'started': '2018-04-26T18:48:34.9',\n",
       "   'status': 'FINISHED',\n",
       "   'statusText': 'OK',\n",
       "   'version': 1},\n",
       "  'lastModelVersion': {'created': '2018-04-26T18:48:36.577',\n",
       "   'id': 3,\n",
       "   'imageName': 'demo_preprocessing',\n",
       "   'imageSHA256': '39105530a3ed1ac2967f4977352e1e32f6ce3e51380c7f4103fbec270ed4f205',\n",
       "   'imageTag': '1',\n",
       "   'model': {'created': '2018-04-26T18:47:52.727',\n",
       "    'id': 3,\n",
       "    'modelContract': 'model_name: \"\"\\nsignatures {\\n  signature_name: \"normalize\"\\n  inputs {\\n    name: \"data\"\\n    shape {\\n      dim {\\n        size: 24\\n        name: \"\"\\n      }\\n      unknown_rank: false\\n    }\\n    dtype: DT_DOUBLE\\n  }\\n  outputs {\\n    name: \"data\"\\n    shape {\\n      dim {\\n        size: 1\\n        name: \"\"\\n      }\\n      dim {\\n        size: 1\\n        name: \"\"\\n      }\\n      dim {\\n        size: 24\\n        name: \"\"\\n      }\\n      unknown_rank: false\\n    }\\n    dtype: DT_DOUBLE\\n  }\\n}\\n',\n",
       "    'modelType': 'python:3.6',\n",
       "    'name': 'demo_preprocessing',\n",
       "    'source': 'local:demo_preprocessing',\n",
       "    'updated': '2018-04-26T18:47:52.727'},\n",
       "   'modelContract': 'model_name: \"\"\\nsignatures {\\n  signature_name: \"normalize\"\\n  inputs {\\n    name: \"data\"\\n    shape {\\n      dim {\\n        size: 24\\n        name: \"\"\\n      }\\n      unknown_rank: false\\n    }\\n    dtype: DT_DOUBLE\\n  }\\n  outputs {\\n    name: \"data\"\\n    shape {\\n      dim {\\n        size: 1\\n        name: \"\"\\n      }\\n      dim {\\n        size: 1\\n        name: \"\"\\n      }\\n      dim {\\n        size: 24\\n        name: \"\"\\n      }\\n      unknown_rank: false\\n    }\\n    dtype: DT_DOUBLE\\n  }\\n}\\n',\n",
       "   'modelName': 'demo_preprocessing',\n",
       "   'modelType': 'python:3.6',\n",
       "   'modelVersion': 1,\n",
       "   'source': 'local:demo_preprocessing'},\n",
       "  'model': {'created': '2018-04-26T18:47:52.727',\n",
       "   'id': 3,\n",
       "   'modelContract': 'model_name: \"\"\\nsignatures {\\n  signature_name: \"normalize\"\\n  inputs {\\n    name: \"data\"\\n    shape {\\n      dim {\\n        size: 24\\n        name: \"\"\\n      }\\n      unknown_rank: false\\n    }\\n    dtype: DT_DOUBLE\\n  }\\n  outputs {\\n    name: \"data\"\\n    shape {\\n      dim {\\n        size: 1\\n        name: \"\"\\n      }\\n      dim {\\n        size: 1\\n        name: \"\"\\n      }\\n      dim {\\n        size: 24\\n        name: \"\"\\n      }\\n      unknown_rank: false\\n    }\\n    dtype: DT_DOUBLE\\n  }\\n}\\n',\n",
       "   'modelType': 'python:3.6',\n",
       "   'name': 'demo_preprocessing',\n",
       "   'source': 'local:demo_preprocessing',\n",
       "   'updated': '2018-04-26T18:47:52.727'}}]"
      ]
     },
     "execution_count": 1,
     "metadata": {},
     "output_type": "execute_result"
    }
   ],
   "source": [
    "from hydroserving.httpclient import HydroservingClient\n",
    "hs_api = HydroservingClient(\"http://localhost:8080\")\n",
    "\n",
    "hs_api.models.list()"
   ]
  },
  {
   "cell_type": "code",
   "execution_count": 2,
   "metadata": {},
   "outputs": [
    {
     "name": "stdout",
     "output_type": "stream",
     "text": [
      "{'name': 'hydrosphere/serving-runtime-python', 'tags': [], 'version': '3.6-latest', 'id': 2, 'configParams': {}, 'suitableModelType': ['python:3.6']}\n",
      "{'name': 'hydrosphere/serving-runtime-tensorflow', 'tags': [], 'version': '1.4.0-latest', 'id': 3, 'configParams': {}, 'suitableModelType': ['tensorflow']}\n"
     ]
    }
   ],
   "source": [
    "py = hs_api.runtimes.create('hydrosphere/serving-runtime-python', '3.6-latest', [\"python:3.6\"])\n",
    "tf = hs_api.runtimes.create('hydrosphere/serving-runtime-tensorflow', '1.4.0-latest', [\"tensorflow\"])\n",
    "# py = hs_api.runtimes.find('hydrosphere/serving-runtime-python', '3.6-latest')\n",
    "# tf = hs_api.runtimes.find('hydrosphere/serving-runtime-tensorflow', '1.4.0-latest')\n",
    "print(py)\n",
    "print(tf)"
   ]
  },
  {
   "cell_type": "code",
   "execution_count": 15,
   "metadata": {},
   "outputs": [
    {
     "name": "stdout",
     "output_type": "stream",
     "text": [
      "{'source': 'local:demo_preprocessing', 'model': {'name': 'demo_preprocessing', 'source': 'local:demo_preprocessing', 'modelContract': 'model_name: \"\"\\nsignatures {\\n  signature_name: \"normalize\"\\n  inputs {\\n    name: \"data\"\\n    shape {\\n      dim {\\n        size: 24\\n        name: \"\"\\n      }\\n      unknown_rank: false\\n    }\\n    dtype: DT_DOUBLE\\n  }\\n  outputs {\\n    name: \"data\"\\n    shape {\\n      dim {\\n        size: 24\\n        name: \"\"\\n      }\\n      unknown_rank: false\\n    }\\n    dtype: DT_DOUBLE\\n  }\\n}\\n', 'modelType': 'python:3.6', 'id': 3, 'updated': '2018-04-26T15:02:30.537', 'created': '2018-04-26T15:02:30.537'}, 'modelContract': 'model_name: \"\"\\nsignatures {\\n  signature_name: \"normalize\"\\n  inputs {\\n    name: \"data\"\\n    shape {\\n      dim {\\n        size: 24\\n        name: \"\"\\n      }\\n      unknown_rank: false\\n    }\\n    dtype: DT_DOUBLE\\n  }\\n  outputs {\\n    name: \"data\"\\n    shape {\\n      dim {\\n        size: 24\\n        name: \"\"\\n      }\\n      unknown_rank: false\\n    }\\n    dtype: DT_DOUBLE\\n  }\\n}\\n', 'imageName': 'demo_preprocessing', 'imageTag': '1', 'modelName': 'demo_preprocessing', 'modelType': 'python:3.6', 'id': 1, 'imageSHA256': 'fcd3ad727b397bf00855edb06bc01e051a04035e7680be7bca1e20989ee94e11', 'modelVersion': 1, 'created': '2018-04-26T15:02:49.914'}\n"
     ]
    }
   ],
   "source": [
    "# build model version\n",
    "preprocessing_model = list(filter(lambda m: m['model']['name'] == 'demo_preprocessing', hs_api.models.list()))[0]\n",
    "preprocessing_version = hs_api.models.build(preprocessing_model['model']['id'])\n",
    "\n",
    "print(preprocessing_version)"
   ]
  },
  {
   "cell_type": "code",
   "execution_count": 16,
   "metadata": {},
   "outputs": [
    {
     "name": "stdout",
     "output_type": "stream",
     "text": [
      "{'source': 'local:demo_postprocessing', 'model': {'name': 'demo_postprocessing', 'source': 'local:demo_postprocessing', 'modelContract': 'model_name: \"\"\\nsignatures {\\n  signature_name: \"detect\"\\n  inputs {\\n    name: \"result\"\\n    shape {\\n      dim {\\n        size: 4\\n        name: \"\"\\n      }\\n      unknown_rank: false\\n    }\\n    dtype: DT_DOUBLE\\n  }\\n  outputs {\\n    name: \"result\"\\n    shape {\\n      dim {\\n        size: 4\\n        name: \"\"\\n      }\\n      unknown_rank: false\\n    }\\n    dtype: DT_DOUBLE\\n  }\\n  outputs {\\n    name: \"anomaly\"\\n    dtype: DT_BOOL\\n  }\\n}\\n', 'modelType': 'python:3.6', 'id': 2, 'updated': '2018-04-26T15:02:29.697', 'created': '2018-04-26T15:02:29.697'}, 'modelContract': 'model_name: \"\"\\nsignatures {\\n  signature_name: \"detect\"\\n  inputs {\\n    name: \"result\"\\n    shape {\\n      dim {\\n        size: 4\\n        name: \"\"\\n      }\\n      unknown_rank: false\\n    }\\n    dtype: DT_DOUBLE\\n  }\\n  outputs {\\n    name: \"result\"\\n    shape {\\n      dim {\\n        size: 4\\n        name: \"\"\\n      }\\n      unknown_rank: false\\n    }\\n    dtype: DT_DOUBLE\\n  }\\n  outputs {\\n    name: \"anomaly\"\\n    dtype: DT_BOOL\\n  }\\n}\\n', 'imageName': 'demo_postprocessing', 'imageTag': '1', 'modelName': 'demo_postprocessing', 'modelType': 'python:3.6', 'id': 2, 'imageSHA256': '230d28a6004e258605fbe13ba90ca716ca2939ee09b3ed8ce5e87dad4a91f32d', 'modelVersion': 1, 'created': '2018-04-26T15:02:52.268'}\n"
     ]
    }
   ],
   "source": [
    "greenhouse = list(filter(lambda m: m['model']['name'] == 'demo_postprocessing', hs_api.models.list()))[0]\n",
    "greenhouse_version = hs_api.models.build(greenhouse['model']['id'])\n",
    "print(greenhouse_version)"
   ]
  },
  {
   "cell_type": "code",
   "execution_count": 17,
   "metadata": {},
   "outputs": [
    {
     "name": "stdout",
     "output_type": "stream",
     "text": [
      "{'source': 'local:demo_lstm', 'model': {'name': 'demo_lstm', 'source': 'local:demo_lstm', 'modelContract': 'model_name: \"\"\\nsignatures {\\n  signature_name: \"infer\"\\n  inputs {\\n    name: \"data\"\\n    shape {\\n      dim {\\n        size: -1\\n        name: \"\"\\n      }\\n      dim {\\n        size: -1\\n        name: \"\"\\n      }\\n      dim {\\n        size: 24\\n        name: \"\"\\n      }\\n      unknown_rank: false\\n    }\\n    dtype: DT_FLOAT\\n  }\\n  outputs {\\n    name: \"result\"\\n    shape {\\n      dim {\\n        size: 4\\n        name: \"\"\\n      }\\n      unknown_rank: false\\n    }\\n    dtype: DT_FLOAT\\n  }\\n}\\n', 'modelType': 'tensorflow', 'id': 1, 'updated': '2018-04-26T15:02:28.527', 'created': '2018-04-26T15:02:28.527'}, 'modelContract': 'model_name: \"\"\\nsignatures {\\n  signature_name: \"infer\"\\n  inputs {\\n    name: \"data\"\\n    shape {\\n      dim {\\n        size: -1\\n        name: \"\"\\n      }\\n      dim {\\n        size: -1\\n        name: \"\"\\n      }\\n      dim {\\n        size: 24\\n        name: \"\"\\n      }\\n      unknown_rank: false\\n    }\\n    dtype: DT_FLOAT\\n  }\\n  outputs {\\n    name: \"result\"\\n    shape {\\n      dim {\\n        size: 4\\n        name: \"\"\\n      }\\n      unknown_rank: false\\n    }\\n    dtype: DT_FLOAT\\n  }\\n}\\n', 'imageName': 'demo_lstm', 'imageTag': '1', 'modelName': 'demo_lstm', 'modelType': 'tensorflow', 'id': 3, 'imageSHA256': 'f085981cd9b49910196ea0f55a52a4011f21ed674ceee4350ca07b041258ca9f', 'modelVersion': 1, 'created': '2018-04-26T15:02:55.576'}\n"
     ]
    }
   ],
   "source": [
    "# Could fail with timeout, since Tensorflow dependecy is big\n",
    "lstm = list(filter(lambda m: m['model']['name'] == 'demo_lstm', hs_api.models.list()))[0]\n",
    "lstm_version = hs_api.models.build(lstm['model']['id'])\n",
    "print(lstm_version)"
   ]
  },
  {
   "cell_type": "code",
   "execution_count": 18,
   "metadata": {},
   "outputs": [
    {
     "name": "stdout",
     "output_type": "stream",
     "text": [
      "{'source': 'local:demo_lstm', 'model': {'name': 'demo_lstm', 'source': 'local:demo_lstm', 'modelContract': 'model_name: \"\"\\nsignatures {\\n  signature_name: \"infer\"\\n  inputs {\\n    name: \"data\"\\n    shape {\\n      dim {\\n        size: -1\\n        name: \"\"\\n      }\\n      dim {\\n        size: -1\\n        name: \"\"\\n      }\\n      dim {\\n        size: 24\\n        name: \"\"\\n      }\\n      unknown_rank: false\\n    }\\n    dtype: DT_FLOAT\\n  }\\n  outputs {\\n    name: \"result\"\\n    shape {\\n      dim {\\n        size: 4\\n        name: \"\"\\n      }\\n      unknown_rank: false\\n    }\\n    dtype: DT_FLOAT\\n  }\\n}\\n', 'modelType': 'tensorflow', 'id': 1, 'updated': '2018-04-26T15:02:28.527', 'created': '2018-04-26T15:02:28.527'}, 'modelContract': 'model_name: \"\"\\nsignatures {\\n  signature_name: \"infer\"\\n  inputs {\\n    name: \"data\"\\n    shape {\\n      dim {\\n        size: -1\\n        name: \"\"\\n      }\\n      dim {\\n        size: -1\\n        name: \"\"\\n      }\\n      dim {\\n        size: 24\\n        name: \"\"\\n      }\\n      unknown_rank: false\\n    }\\n    dtype: DT_FLOAT\\n  }\\n  outputs {\\n    name: \"result\"\\n    shape {\\n      dim {\\n        size: 4\\n        name: \"\"\\n      }\\n      unknown_rank: false\\n    }\\n    dtype: DT_FLOAT\\n  }\\n}\\n', 'imageName': 'demo_lstm', 'imageTag': '1', 'modelName': 'demo_lstm', 'modelType': 'tensorflow', 'id': 3, 'imageSHA256': 'f085981cd9b49910196ea0f55a52a4011f21ed674ceee4350ca07b041258ca9f', 'modelVersion': 1, 'created': '2018-04-26T15:02:55.576'}\n"
     ]
    }
   ],
   "source": [
    "lstm_version = list(filter(lambda m: m['model']['name'] == 'demo_lstm', hs_api.models.list()))[0][\"lastModelVersion\"]\n",
    "print(lstm_version)"
   ]
  },
  {
   "cell_type": "code",
   "execution_count": 22,
   "metadata": {},
   "outputs": [
    {
     "name": "stdout",
     "output_type": "stream",
     "text": [
      "{'name': 'stateful_lstm_pipeline_2', 'kafkaStreaming': [], 'id': 2, 'executionGraph': {'stages': [{'services': [{'serviceDescription': {'runtimeId': 2, 'modelVersionId': 1, 'modelName': 'demo_preprocessing:1', 'runtimeName': 'hydrosphere/serving-runtime-python'}, 'weight': 100, 'signature': 'signature_name: \"normalize\"\\ninputs {\\n  name: \"data\"\\n  shape {\\n    dim {\\n      size: 24\\n      name: \"\"\\n    }\\n    unknown_rank: false\\n  }\\n  dtype: DT_DOUBLE\\n}\\noutputs {\\n  name: \"data\"\\n  shape {\\n    dim {\\n      size: 24\\n      name: \"\"\\n    }\\n    unknown_rank: false\\n  }\\n  dtype: DT_DOUBLE\\n}\\n'}], 'signature': 'signature_name: \"0\"\\ninputs {\\n  name: \"data\"\\n  shape {\\n    dim {\\n      size: 24\\n      name: \"\"\\n    }\\n    unknown_rank: false\\n  }\\n  dtype: DT_DOUBLE\\n}\\noutputs {\\n  name: \"data\"\\n  shape {\\n    dim {\\n      size: 24\\n      name: \"\"\\n    }\\n    unknown_rank: false\\n  }\\n  dtype: DT_DOUBLE\\n}\\n'}, {'services': [{'serviceDescription': {'runtimeId': 3, 'modelVersionId': 3, 'modelName': 'demo_lstm:1', 'runtimeName': 'hydrosphere/serving-runtime-tensorflow'}, 'weight': 100, 'signature': 'signature_name: \"infer\"\\ninputs {\\n  name: \"data\"\\n  shape {\\n    dim {\\n      size: -1\\n      name: \"\"\\n    }\\n    dim {\\n      size: -1\\n      name: \"\"\\n    }\\n    dim {\\n      size: 24\\n      name: \"\"\\n    }\\n    unknown_rank: false\\n  }\\n  dtype: DT_FLOAT\\n}\\noutputs {\\n  name: \"result\"\\n  shape {\\n    dim {\\n      size: 4\\n      name: \"\"\\n    }\\n    unknown_rank: false\\n  }\\n  dtype: DT_FLOAT\\n}\\n'}], 'signature': 'signature_name: \"1\"\\ninputs {\\n  name: \"data\"\\n  shape {\\n    dim {\\n      size: -1\\n      name: \"\"\\n    }\\n    dim {\\n      size: -1\\n      name: \"\"\\n    }\\n    dim {\\n      size: 24\\n      name: \"\"\\n    }\\n    unknown_rank: false\\n  }\\n  dtype: DT_FLOAT\\n}\\noutputs {\\n  name: \"result\"\\n  shape {\\n    dim {\\n      size: 4\\n      name: \"\"\\n    }\\n    unknown_rank: false\\n  }\\n  dtype: DT_FLOAT\\n}\\n'}, {'services': [{'serviceDescription': {'runtimeId': 2, 'modelVersionId': 2, 'modelName': 'demo_postprocessing:1', 'runtimeName': 'hydrosphere/serving-runtime-python'}, 'weight': 100, 'signature': 'signature_name: \"detect\"\\ninputs {\\n  name: \"result\"\\n  shape {\\n    dim {\\n      size: 4\\n      name: \"\"\\n    }\\n    unknown_rank: false\\n  }\\n  dtype: DT_DOUBLE\\n}\\noutputs {\\n  name: \"result\"\\n  shape {\\n    dim {\\n      size: 4\\n      name: \"\"\\n    }\\n    unknown_rank: false\\n  }\\n  dtype: DT_DOUBLE\\n}\\noutputs {\\n  name: \"anomaly\"\\n  dtype: DT_BOOL\\n}\\n'}], 'signature': 'signature_name: \"2\"\\ninputs {\\n  name: \"result\"\\n  shape {\\n    dim {\\n      size: 4\\n      name: \"\"\\n    }\\n    unknown_rank: false\\n  }\\n  dtype: DT_DOUBLE\\n}\\noutputs {\\n  name: \"result\"\\n  shape {\\n    dim {\\n      size: 4\\n      name: \"\"\\n    }\\n    unknown_rank: false\\n  }\\n  dtype: DT_DOUBLE\\n}\\noutputs {\\n  name: \"anomaly\"\\n  dtype: DT_BOOL\\n}\\n'}]}, 'contract': 'model_name: \"stateful_lstm_pipeline_2\"\\nsignatures {\\n  signature_name: \"stateful_lstm_pipeline_2\"\\n  inputs {\\n    name: \"data\"\\n    shape {\\n      dim {\\n        size: 24\\n        name: \"\"\\n      }\\n      unknown_rank: false\\n    }\\n    dtype: DT_DOUBLE\\n  }\\n  outputs {\\n    name: \"result\"\\n    shape {\\n      dim {\\n        size: 4\\n        name: \"\"\\n      }\\n      unknown_rank: false\\n    }\\n    dtype: DT_DOUBLE\\n  }\\n  outputs {\\n    name: \"anomaly\"\\n    dtype: DT_BOOL\\n  }\\n}\\n'}\n"
     ]
    }
   ],
   "source": [
    "# create application\n",
    "app_name = \"stateful_lstm_pipeline_2\"\n",
    "\n",
    "application = {\n",
    "  \"name\": app_name,\n",
    "  \"executionGraph\": {\n",
    "    \"stages\": [\n",
    "      {\n",
    "        \"services\": [\n",
    "          {\n",
    "            \"runtimeId\": py[\"id\"],\n",
    "            \"modelVersionId\": preprocessing_version[\"id\"],\n",
    "            \"weight\": 100,\n",
    "            \"signatureName\": \"normalize\"\n",
    "          }\n",
    "        ]\n",
    "      },\n",
    "        {\n",
    "        \"services\": [\n",
    "          {\n",
    "            \"runtimeId\": tf[\"id\"],\n",
    "            \"modelVersionId\": lstm_version[\"id\"],\n",
    "            \"weight\": 100,\n",
    "            \"signatureName\": \"infer\"\n",
    "          }\n",
    "        ]\n",
    "      },\n",
    "        {\n",
    "        \"services\": [\n",
    "          {\n",
    "            \"runtimeId\": py[\"id\"],\n",
    "            \"modelVersionId\": greenhouse_version[\"id\"],\n",
    "            \"weight\": 100,\n",
    "            \"signatureName\": \"detect\"\n",
    "          }\n",
    "        ]\n",
    "      }\n",
    "    ]\n",
    "  },\n",
    "  \"kafkaStreaming\": []\n",
    "}\n",
    "\n",
    "created_app = hs_api.applications.create(application)\n",
    "print(created_app)"
   ]
  },
  {
   "cell_type": "code",
   "execution_count": 24,
   "metadata": {},
   "outputs": [
    {
     "ename": "_Rendezvous",
     "evalue": "<_Rendezvous of RPC that terminated with (StatusCode.CANCELLED, Received http2 header with status: 503)>",
     "output_type": "error",
     "traceback": [
      "\u001b[0;31m---------------------------------------------------------------------------\u001b[0m",
      "\u001b[0;31m_Rendezvous\u001b[0m                               Traceback (most recent call last)",
      "\u001b[0;32m<ipython-input-24-c939e590ea4a>\u001b[0m in \u001b[0;36m<module>\u001b[0;34m()\u001b[0m\n\u001b[1;32m     26\u001b[0m )\n\u001b[1;32m     27\u001b[0m \u001b[0;34m\u001b[0m\u001b[0m\n\u001b[0;32m---> 28\u001b[0;31m \u001b[0mresult\u001b[0m \u001b[0;34m=\u001b[0m \u001b[0mclient\u001b[0m\u001b[0;34m.\u001b[0m\u001b[0mPredict\u001b[0m\u001b[0;34m(\u001b[0m\u001b[0mrequest\u001b[0m\u001b[0;34m)\u001b[0m\u001b[0;34m\u001b[0m\u001b[0m\n\u001b[0m\u001b[1;32m     29\u001b[0m \u001b[0mprint\u001b[0m\u001b[0;34m(\u001b[0m\u001b[0mresult\u001b[0m\u001b[0;34m)\u001b[0m\u001b[0;34m\u001b[0m\u001b[0m\n",
      "\u001b[0;32m~/anaconda/envs/tensorflow/lib/python3.6/site-packages/grpc/_channel.py\u001b[0m in \u001b[0;36m__call__\u001b[0;34m(self, request, timeout, metadata, credentials)\u001b[0m\n\u001b[1;32m    485\u001b[0m         state, call, deadline = self._blocking(request, timeout, metadata,\n\u001b[1;32m    486\u001b[0m                                                credentials)\n\u001b[0;32m--> 487\u001b[0;31m         \u001b[0;32mreturn\u001b[0m \u001b[0m_end_unary_response_blocking\u001b[0m\u001b[0;34m(\u001b[0m\u001b[0mstate\u001b[0m\u001b[0;34m,\u001b[0m \u001b[0mcall\u001b[0m\u001b[0;34m,\u001b[0m \u001b[0;32mFalse\u001b[0m\u001b[0;34m,\u001b[0m \u001b[0mdeadline\u001b[0m\u001b[0;34m)\u001b[0m\u001b[0;34m\u001b[0m\u001b[0m\n\u001b[0m\u001b[1;32m    488\u001b[0m \u001b[0;34m\u001b[0m\u001b[0m\n\u001b[1;32m    489\u001b[0m     \u001b[0;32mdef\u001b[0m \u001b[0mwith_call\u001b[0m\u001b[0;34m(\u001b[0m\u001b[0mself\u001b[0m\u001b[0;34m,\u001b[0m \u001b[0mrequest\u001b[0m\u001b[0;34m,\u001b[0m \u001b[0mtimeout\u001b[0m\u001b[0;34m=\u001b[0m\u001b[0;32mNone\u001b[0m\u001b[0;34m,\u001b[0m \u001b[0mmetadata\u001b[0m\u001b[0;34m=\u001b[0m\u001b[0;32mNone\u001b[0m\u001b[0;34m,\u001b[0m \u001b[0mcredentials\u001b[0m\u001b[0;34m=\u001b[0m\u001b[0;32mNone\u001b[0m\u001b[0;34m)\u001b[0m\u001b[0;34m:\u001b[0m\u001b[0;34m\u001b[0m\u001b[0m\n",
      "\u001b[0;32m~/anaconda/envs/tensorflow/lib/python3.6/site-packages/grpc/_channel.py\u001b[0m in \u001b[0;36m_end_unary_response_blocking\u001b[0;34m(state, call, with_call, deadline)\u001b[0m\n\u001b[1;32m    435\u001b[0m             \u001b[0;32mreturn\u001b[0m \u001b[0mstate\u001b[0m\u001b[0;34m.\u001b[0m\u001b[0mresponse\u001b[0m\u001b[0;34m\u001b[0m\u001b[0m\n\u001b[1;32m    436\u001b[0m     \u001b[0;32melse\u001b[0m\u001b[0;34m:\u001b[0m\u001b[0;34m\u001b[0m\u001b[0m\n\u001b[0;32m--> 437\u001b[0;31m         \u001b[0;32mraise\u001b[0m \u001b[0m_Rendezvous\u001b[0m\u001b[0;34m(\u001b[0m\u001b[0mstate\u001b[0m\u001b[0;34m,\u001b[0m \u001b[0;32mNone\u001b[0m\u001b[0;34m,\u001b[0m \u001b[0;32mNone\u001b[0m\u001b[0;34m,\u001b[0m \u001b[0mdeadline\u001b[0m\u001b[0;34m)\u001b[0m\u001b[0;34m\u001b[0m\u001b[0m\n\u001b[0m\u001b[1;32m    438\u001b[0m \u001b[0;34m\u001b[0m\u001b[0m\n\u001b[1;32m    439\u001b[0m \u001b[0;34m\u001b[0m\u001b[0m\n",
      "\u001b[0;31m_Rendezvous\u001b[0m: <_Rendezvous of RPC that terminated with (StatusCode.CANCELLED, Received http2 header with status: 503)>"
     ]
    }
   ],
   "source": [
    "import hydro_serving_grpc as hs\n",
    "import os\n",
    "import grpc\n",
    "import base64\n",
    "import numpy as np\n",
    "import random\n",
    "\n",
    "channel = grpc.insecure_channel('localhost:8080')\n",
    "client = hs.PredictionServiceStub(channel=channel)\n",
    "\n",
    "shape = hs.TensorShapeProto(dim=[\n",
    "    hs.TensorShapeProto.Dim(size=24)\n",
    "])\n",
    "\n",
    "data_tensor = hs.TensorProto(\n",
    "    dtype=hs.DT_DOUBLE,\n",
    "    tensor_shape=shape,\n",
    "    double_val=[x for x in np.random.random(24).tolist()]\n",
    ")\n",
    "\n",
    "request = hs.PredictRequest(\n",
    "    model_spec=hs.ModelSpec(signature_name=app_name, name=app_name),\n",
    "    inputs={\n",
    "        \"data\": data_tensor,\n",
    "    }\n",
    ")\n",
    "\n",
    "result = client.Predict(request)\n",
    "print(result)"
   ]
  },
  {
   "cell_type": "code",
   "execution_count": null,
   "metadata": {},
   "outputs": [],
   "source": []
  }
 ],
 "metadata": {
  "kernelspec": {
   "display_name": "Python 3",
   "language": "python",
   "name": "python3"
  },
  "language_info": {
   "codemirror_mode": {
    "name": "ipython",
    "version": 3
   },
   "file_extension": ".py",
   "mimetype": "text/x-python",
   "name": "python",
   "nbconvert_exporter": "python",
   "pygments_lexer": "ipython3",
   "version": "3.6.4"
  }
 },
 "nbformat": 4,
 "nbformat_minor": 1
}
