{
 "cells": [
  {
   "cell_type": "markdown",
   "metadata": {},
   "source": [
    "# Hydro-serving / Tensorflow\n",
    "\n",
    "## Proposal\n",
    "User trains model in genuine TF environment. We don't know where or how it's done. \n",
    "All we care about is a MetaGraphDef with serving Signatures.\n",
    "Current notebook exploits Tensorflow Serving techniquies and upgrades them.\n",
    "\n",
    "### Tensorflow Serving \n",
    "1. User trains model\n",
    "2. User defines one or more signatures for graph.\n",
    "3. User uses builder to export model.\n",
    "\n",
    "Signatures in Tensorflow are limited: classification, prediction and regression signatures with input/output conditions.\n",
    "\n",
    "### Hydro-serving\n",
    "1. User trains model\n",
    "2. User defines exactly one signature for graph.\n",
    "3. User uses builder to export model.\n",
    "\n",
    "As signature name user must use `tf.saved_model.signature_constants.DEFAULT_SERVING_SIGNATURE_DEF_KEY`.\n",
    "There are no restrictions for input/output."
   ]
  },
  {
   "cell_type": "code",
   "execution_count": 1,
   "metadata": {},
   "outputs": [
    {
     "name": "stdout",
     "output_type": "stream",
     "text": [
      "Extracting /tmp/data/train-images-idx3-ubyte.gz\n",
      "Extracting /tmp/data/train-labels-idx1-ubyte.gz\n",
      "Extracting /tmp/data/t10k-images-idx3-ubyte.gz\n",
      "Extracting /tmp/data/t10k-labels-idx1-ubyte.gz\n"
     ]
    }
   ],
   "source": [
    "from __future__ import print_function\n",
    "from tensorflow.examples.tutorials.mnist import input_data\n",
    "import tensorflow as tf\n",
    "import matplotlib.pyplot as plt\n",
    "import shutil\n",
    "\n",
    "\n",
    "# Import MNIST data\n",
    "mnist = input_data.read_data_sets(\"/tmp/data/\", one_hot=True)"
   ]
  },
  {
   "cell_type": "code",
   "execution_count": 7,
   "metadata": {},
   "outputs": [
    {
     "name": "stdout",
     "output_type": "stream",
     "text": [
      "Epoch: 0001 cost= 133.264602014\n",
      "Epoch: 0002 cost= 36.322912484\n",
      "Epoch: 0003 cost= 22.835460966\n",
      "Epoch: 0004 cost= 15.678414066\n",
      "Epoch: 0005 cost= 11.490850050\n",
      "Epoch: 0006 cost= 8.448159799\n",
      "Epoch: 0007 cost= 6.297038753\n",
      "Epoch: 0008 cost= 4.805425302\n",
      "Epoch: 0009 cost= 3.407793046\n",
      "Epoch: 0010 cost= 2.590357881\n",
      "Epoch: 0011 cost= 1.857197643\n",
      "Epoch: 0012 cost= 1.439858164\n",
      "Epoch: 0013 cost= 1.070681986\n",
      "Epoch: 0014 cost= 0.843941552\n",
      "Epoch: 0015 cost= 0.641899749\n",
      "Optimization Finished!\n",
      "Accuracy: 0.9451\n"
     ]
    },
    {
     "data": {
      "image/png": "[encoded data removed]",
      "text/plain": [
       "<matplotlib.figure.Figure at 0x121315cf8>"
      ]
     },
     "metadata": {},
     "output_type": "display_data"
    },
    {
     "name": "stdout",
     "output_type": "stream",
     "text": [
      "[1]\n",
      "Exporting trained model to /tmp/tf_model...\n",
      "INFO:tensorflow:No assets to save.\n",
      "INFO:tensorflow:No assets to write.\n",
      "INFO:tensorflow:SavedModel written to: b'/tmp/tf_model/saved_model.pb'\n",
      "Export finished\n"
     ]
    }
   ],
   "source": [
    "'''\n",
    "A Multilayer Perceptron implementation example using TensorFlow library.\n",
    "This example is using the MNIST database of handwritten digits\n",
    "(http://yann.lecun.com/exdb/mnist/)\n",
    "Author: Aymeric Damien\n",
    "Project: https://github.com/aymericdamien/TensorFlow-Examples/\n",
    "'''\n",
    "\n",
    "tf.reset_default_graph()\n",
    "\n",
    "# Parameters\n",
    "learning_rate = 0.001\n",
    "training_epochs = 15\n",
    "batch_size = 100\n",
    "display_step = 1\n",
    "\n",
    "# Network Parameters\n",
    "n_hidden_1 = 256 # 1st layer number of features\n",
    "n_hidden_2 = 256 # 2nd layer number of features\n",
    "n_input = 784 # MNIST data input (img shape: 28*28)\n",
    "n_classes = 10 # MNIST total classes (0-9 digits)\n",
    "\n",
    "# tf Graph input\n",
    "x = tf.placeholder(\"float\", [None, n_input], name=\"x\")\n",
    "y = tf.placeholder(\"float\", [None, n_classes], name=\"y\")\n",
    "\n",
    "\n",
    "# Create model\n",
    "def multilayer_perceptron(x, weights, biases):\n",
    "    # Hidden layer with RELU activation\n",
    "    layer_1 = tf.add(tf.matmul(x, weights['h1']), biases['b1'])\n",
    "    layer_1 = tf.nn.relu(layer_1)\n",
    "    # Hidden layer with RELU activation\n",
    "    layer_2 = tf.add(tf.matmul(layer_1, weights['h2']), biases['b2'])\n",
    "    layer_2 = tf.nn.relu(layer_2)\n",
    "    # Output layer with linear activation\n",
    "    out_layer = tf.add(tf.matmul(layer_2, weights['out']), biases['out'], name = \"out_classes\")\n",
    "    return out_layer\n",
    "\n",
    "# Store layers weight & bias\n",
    "weights = {\n",
    "    'h1': tf.Variable(tf.random_normal([n_input, n_hidden_1])),\n",
    "    'h2': tf.Variable(tf.random_normal([n_hidden_1, n_hidden_2])),\n",
    "    'out': tf.Variable(tf.random_normal([n_hidden_2, n_classes]))\n",
    "}\n",
    "biases = {\n",
    "    'b1': tf.Variable(tf.random_normal([n_hidden_1])),\n",
    "    'b2': tf.Variable(tf.random_normal([n_hidden_2])),\n",
    "    'out': tf.Variable(tf.random_normal([n_classes]))\n",
    "}\n",
    "\n",
    "# Construct model\n",
    "pred = multilayer_perceptron(x, weights, biases)\n",
    "norm = tf.random_normal([2, 3], mean=-1, stddev=4)\n",
    "output = tf.argmax(pred,1)\n",
    "# Define loss and optimizer\n",
    "cost = tf.reduce_mean(tf.nn.softmax_cross_entropy_with_logits(logits=pred, labels=y))\n",
    "optimizer = tf.train.AdamOptimizer(learning_rate=learning_rate).minimize(cost)\n",
    "\n",
    "# Initializing the variables\n",
    "init = tf.global_variables_initializer()\n",
    "\n",
    "# Launch the graph\n",
    "with tf.Session() as sess:\n",
    "    sess.run(init)\n",
    "\n",
    "    # Training cycle\n",
    "    for epoch in range(training_epochs):\n",
    "        avg_cost = 0.\n",
    "        total_batch = int(mnist.train.num_examples/batch_size)\n",
    "        # Loop over all batches\n",
    "        for i in range(total_batch):\n",
    "            batch_x, batch_y = mnist.train.next_batch(batch_size)\n",
    "            # Run optimization op (backprop) and cost op (to get loss value)\n",
    "            feed = {x: batch_x, y: batch_y}\n",
    "            _, c = sess.run([optimizer, cost], feed_dict=feed)\n",
    "            # Compute average loss\n",
    "            avg_cost += c / total_batch\n",
    "        # Display logs per epoch step\n",
    "        if epoch % display_step == 0:\n",
    "            print(\"Epoch:\", '%04d' % (epoch+1), \"cost=\", \\\n",
    "                \"{:.9f}\".format(avg_cost))\n",
    "    print(\"Optimization Finished!\")\n",
    "\n",
    "    # Test model\n",
    "    correct_prediction = tf.equal(tf.argmax(pred, 1), tf.argmax(y, 1))\n",
    "    # Calculate accuracy\n",
    "    accuracy = tf.reduce_mean(tf.cast(correct_prediction, \"float\"))\n",
    "    print(\"Accuracy:\", accuracy.eval({x: mnist.test.images, y: mnist.test.labels}))\n",
    "    batch_x = mnist.train.next_batch(1)[0][0].reshape(1, 784)\n",
    "    \n",
    "    plt.imshow(batch_x.reshape(28, 28))\n",
    "    plt.show()\n",
    "    \n",
    "    bla = {\n",
    "         'x:0': batch_x\n",
    "    }\n",
    "    print(sess.run(output, feed_dict=bla))\n",
    "    \n",
    "    export_path = \"/tmp/tf_model\"  \n",
    "    print('Exporting trained model to {0}...'.format(export_path))\n",
    "\n",
    "    shutil.rmtree(export_path)\n",
    "\n",
    "    builder = tf.saved_model.builder.SavedModelBuilder(export_path)\n",
    "\n",
    "    tensor_info_x = tf.saved_model.utils.build_tensor_info(x)\n",
    "    tensor_info_output = tf.saved_model.utils.build_tensor_info(output)\n",
    "    tensor_info_test = tf.saved_model.utils.build_tensor_info(output)\n",
    "\n",
    "\n",
    "    \n",
    "    classification_signature = (\n",
    "      tf.saved_model.signature_def_utils.build_signature_def(\n",
    "          inputs={\n",
    "              'images': tensor_info_x\n",
    "          },\n",
    "          outputs={\n",
    "              'labels': tensor_info_output,\n",
    "              'labels2': tensor_info_output,\n",
    "          },\n",
    "          method_name=tf.saved_model.signature_constants.PREDICT_METHOD_NAME)\n",
    "    )\n",
    "    \n",
    "    legacy_init_op = tf.group(tf.tables_initializer(), name='legacy_init_op')\n",
    "    builder.add_meta_graph_and_variables(\n",
    "      sess, [tf.saved_model.tag_constants.SERVING],\n",
    "      signature_def_map={\n",
    "          tf.saved_model.signature_constants.DEFAULT_SERVING_SIGNATURE_DEF_KEY: classification_signature\n",
    "      },\n",
    "      legacy_init_op=legacy_init_op)\n",
    "    builder.save()\n",
    "    print('Export finished')"
   ]
  },
  {
   "cell_type": "code",
   "execution_count": 5,
   "metadata": {
    "scrolled": true
   },
   "outputs": [
    {
     "name": "stdout",
     "output_type": "stream",
     "text": [
      "INFO:tensorflow:Restoring parameters from b'/tmp/tf_model/variables/variables'\n",
      "['images']\n",
      "['labels']\n"
     ]
    },
    {
     "data": {
      "image/png": "[encoded data removed]",
      "text/plain": [
       "<matplotlib.figure.Figure at 0x12a270898>"
      ]
     },
     "metadata": {},
     "output_type": "display_data"
    },
    {
     "name": "stdout",
     "output_type": "stream",
     "text": [
      "[array([9])]\n"
     ]
    }
   ],
   "source": [
    "tf.reset_default_graph()\n",
    "\n",
    "batch_x, batch_y = mnist.train.next_batch(1)\n",
    "\n",
    "with tf.Session() as sess:\n",
    "    meta_graph = tf.saved_model.loader.load(sess, [tf.saved_model.tag_constants.SERVING], export_path)\n",
    "    signature = meta_graph.signature_def['serving_default']\n",
    "    inputs = list(signature.inputs._values.keys())\n",
    "    outputs = list(signature.outputs._values.keys())\n",
    "    print(inputs)\n",
    "    print(outputs)\n",
    "    \n",
    "    input_tensors = list(map(lambda n: sess.graph.get_tensor_by_name(signature.inputs[n].name), inputs))\n",
    "    output_tensors = list(map(lambda n: sess.graph.get_tensor_by_name(signature.outputs[n].name), outputs))\n",
    "\n",
    "    bla = {\n",
    "         'x:0': mnist.train.next_batch(1)[0][0].reshape(1, 784)\n",
    "    }\n",
    "    \n",
    "    plt.imshow(bla['x:0'].reshape(28, 28))\n",
    "    plt.show()\n",
    "    \n",
    "    result = sess.run(output_tensors, bla)\n",
    "    \n",
    "    print(result)"
   ]
  },
  {
   "cell_type": "code",
   "execution_count": null,
   "metadata": {
    "collapsed": true
   },
   "outputs": [],
   "source": []
  }
 ],
 "metadata": {
  "kernelspec": {
   "display_name": "Python 3",
   "language": "python",
   "name": "python3"
  },
  "language_info": {
   "codemirror_mode": {
    "name": "ipython",
    "version": 3
   },
   "file_extension": ".py",
   "mimetype": "text/x-python",
   "name": "python",
   "nbconvert_exporter": "python",
   "pygments_lexer": "ipython3",
   "version": "3.6.1"
  }
 },
 "nbformat": 4,
 "nbformat_minor": 2
}
