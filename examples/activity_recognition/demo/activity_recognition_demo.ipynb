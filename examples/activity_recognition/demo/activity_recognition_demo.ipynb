{
 "cells": [
  {
   "cell_type": "markdown",
   "metadata": {
    "colab_type": "text",
    "id": "2Gq2lJz1SRor"
   },
   "source": [
    "# Mnist classification demo"
   ]
  },
  {
   "cell_type": "markdown",
   "metadata": {
    "colab_type": "text",
    "id": "quIYAbubSeN0"
   },
   "source": [
    "\n",
    "\n"
   ]
  },
  {
   "cell_type": "code",
   "execution_count": 1,
   "metadata": {
    "colab": {
     "base_uri": "https://localhost:8080/",
     "height": 368
    },
    "colab_type": "code",
    "id": "i83cjv9RSbXf",
    "outputId": "38bee1c6-a351-48ba-80a0-7a67db2a0376"
   },
   "outputs": [],
   "source": [
    "%%capture\n",
    "import grpc \n",
    "import numpy as np\n",
    "import hydro_serving_grpc as hs\n",
    "import keras\n",
    "from keras.datasets import mnist\n",
    "from keras import backend as K\n",
    "import os"
   ]
  },
  {
   "cell_type": "markdown",
   "metadata": {
    "colab_type": "text",
    "id": "eHwNSEf1Stab"
   },
   "source": [
    "## Read data sample"
   ]
  },
  {
   "cell_type": "code",
   "execution_count": null,
   "metadata": {
    "colab": {
     "base_uri": "https://localhost:8080/",
     "height": 232
    },
    "colab_type": "code",
    "id": "JjobUoeqS_fK",
    "outputId": "97f79f18-d24e-4142-d90c-898ee3534e9d",
    "scrolled": false
   },
   "outputs": [],
   "source": [
    "Xtest = np.load('activity_recognition/data/SHL5hip_300_X_test.npy')[:,0]\n",
    "val = np.array(Xtest)[1].reshape(1,300,3,3).astype(np.float32)\n",
    "val = val.flatten()"
   ]
  },
  {
   "cell_type": "markdown",
   "metadata": {},
   "source": [
    "## Setup channel"
   ]
  },
  {
   "cell_type": "code",
   "execution_count": 6,
   "metadata": {
    "colab": {},
    "colab_type": "code",
    "id": "AgYQ8xHMXZbN"
   },
   "outputs": [],
   "source": [
    "channel = grpc.insecure_channel(\"localhost\") \n",
    "stub = hs.PredictionServiceStub(channel) \n",
    "model_spec = hs.ModelSpec(name=\"activity_recognition\", signature_name=\"infer\")"
   ]
  },
  {
   "cell_type": "markdown",
   "metadata": {
    "colab_type": "text",
    "id": "AEu3ChnjXeAJ"
   },
   "source": [
    "## Create tensors"
   ]
  },
  {
   "cell_type": "code",
   "execution_count": 7,
   "metadata": {
    "colab": {},
    "colab_type": "code",
    "id": "Cvnwfuj3XiXa"
   },
   "outputs": [],
   "source": [
    "tensor_shape = hs.TensorShapeProto(dim=[hs.TensorShapeProto.Dim(size=1), hs.TensorShapeProto.Dim(size=300),hs.TensorShapeProto.Dim(size=3),hs.TensorShapeProto.Dim(size=3)])\n",
    "tensor = hs.TensorProto(dtype=hs.DT_DOUBLE, tensor_shape=tensor_shape, double_val=val)"
   ]
  },
  {
   "cell_type": "markdown",
   "metadata": {
    "colab_type": "text",
    "id": "x9IQH5ZgYEQF"
   },
   "source": [
    "## Send request to model servable"
   ]
  },
  {
   "cell_type": "code",
   "execution_count": 8,
   "metadata": {
    "colab": {},
    "colab_type": "code",
    "id": "9FfmZpU6YIOy"
   },
   "outputs": [
    {
     "name": "stdout",
     "output_type": "stream",
     "text": [
      "Output values:\n",
      "outputs {\n",
      "  key: \"y\"\n",
      "  value {\n",
      "    dtype: DT_DOUBLE\n",
      "    tensor_shape {\n",
      "      dim {\n",
      "        size: 5\n",
      "      }\n",
      "    }\n",
      "    double_val: 0.003309800988063216\n",
      "    double_val: 0.9832870960235596\n",
      "    double_val: 0.010390128009021282\n",
      "    double_val: 0.00010289066995028406\n",
      "    double_val: 0.0029099872335791588\n",
      "  }\n",
      "}\n",
      "\n"
     ]
    }
   ],
   "source": [
    "request = hs.PredictRequest(model_spec=model_spec, inputs={\"x\": tensor})\n",
    "result = stub.Predict(request)\n",
    "result = np.array(result.outputs['y']).argmax()\n",
    "print('Output :')\n",
    "print(f'activity # :{result}')"
   ]
  }
 ],
 "metadata": {
  "colab": {
   "name": "Untitled20.ipynb",
   "provenance": [],
   "version": "0.3.2"
  },
  "kernelspec": {
   "display_name": "Python 3",
   "language": "python",
   "name": "python3"
  },
  "language_info": {
   "codemirror_mode": {
    "name": "ipython",
    "version": 3
   },
   "file_extension": ".py",
   "mimetype": "text/x-python",
   "name": "python",
   "nbconvert_exporter": "python",
   "pygments_lexer": "ipython3",
   "version": "3.7.4"
  }
 },
 "nbformat": 4,
 "nbformat_minor": 1
}
