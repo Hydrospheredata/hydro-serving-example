{
 "cells": [
  {
   "cell_type": "markdown",
   "metadata": {
    "colab_type": "text",
    "id": "2Gq2lJz1SRor"
   },
   "source": [
    "# Mnist classification demo"
   ]
  },
  {
   "cell_type": "code",
   "execution_count": 9,
   "metadata": {
    "colab": {
     "base_uri": "https://localhost:8080/",
     "height": 368
    },
    "colab_type": "code",
    "id": "i83cjv9RSbXf",
    "outputId": "38bee1c6-a351-48ba-80a0-7a67db2a0376"
   },
   "outputs": [],
   "source": [
    "%%capture\n",
    "import grpc \n",
    "import numpy as np\n",
    "import hydro_serving_grpc as hs\n",
    "import keras\n",
    "from keras.datasets import mnist\n",
    "from keras import backend as K\n",
    "import os"
   ]
  },
  {
   "cell_type": "markdown",
   "metadata": {
    "colab_type": "text",
    "id": "eHwNSEf1Stab"
   },
   "source": [
    "## Read data sample"
   ]
  },
  {
   "cell_type": "code",
   "execution_count": 10,
   "metadata": {
    "colab": {
     "base_uri": "https://localhost:8080/",
     "height": 232
    },
    "colab_type": "code",
    "id": "JjobUoeqS_fK",
    "outputId": "97f79f18-d24e-4142-d90c-898ee3534e9d",
    "scrolled": false
   },
   "outputs": [],
   "source": [
    "(x_train, y_train), (x_test, y_test) = mnist.load_data()\n",
    "img_rows, img_cols = 28, 28\n",
    "num_classes = 10\n",
    "\n",
    "if K.image_data_format() == 'channels_first':\n",
    "    x_train = x_train.reshape(x_train.shape[0], 1, img_rows, img_cols)\n",
    "    x_test = x_test.reshape(x_test.shape[0], 1, img_rows, img_cols)\n",
    "    input_shape = (1, img_rows, img_cols)\n",
    "else:\n",
    "    x_train = x_train.reshape(x_train.shape[0], img_rows, img_cols, 1)\n",
    "    x_test = x_test.reshape(x_test.shape[0], img_rows, img_cols, 1)\n",
    "    input_shape = (img_rows, img_cols, 1)\n",
    "\n",
    "x_train = x_train.astype('float32')\n",
    "x_test = x_test.astype('float32')\n",
    "x_train /= 255\n",
    "x_test /= 255\n",
    "y_train = keras.utils.to_categorical(y_train, num_classes)\n",
    "y_test = keras.utils.to_categorical(y_test, num_classes)\n"
   ]
  },
  {
   "cell_type": "markdown",
   "metadata": {},
   "source": [
    "## Setup channel"
   ]
  },
  {
   "cell_type": "code",
   "execution_count": 11,
   "metadata": {
    "colab": {},
    "colab_type": "code",
    "id": "AgYQ8xHMXZbN"
   },
   "outputs": [],
   "source": [
    "channel = grpc.insecure_channel(\"localhost:9090\")\n",
    "stub = hs.PredictionServiceStub(channel) \n",
    "model_spec = hs.ModelSpec(name=\"mnist_tf\")"
   ]
  },
  {
   "cell_type": "markdown",
   "metadata": {
    "colab_type": "text",
    "id": "AEu3ChnjXeAJ"
   },
   "source": [
    "## Create tensors"
   ]
  },
  {
   "cell_type": "code",
   "execution_count": 29,
   "metadata": {
    "colab": {},
    "colab_type": "code",
    "id": "Cvnwfuj3XiXa"
   },
   "outputs": [],
   "source": [
    "tensor_shape = hs.TensorShapeProto(dim=[hs.TensorShapeProto.Dim(size=-1), hs.TensorShapeProto.Dim(size=784)])\n",
    "tensor = hs.TensorProto(dtype=hs.DT_FLOAT, tensor_shape=tensor_shape, float_val=np.array([x_test[0]]).flatten().astype(np.float32))"
   ]
  },
  {
   "cell_type": "markdown",
   "metadata": {
    "colab_type": "text",
    "id": "x9IQH5ZgYEQF"
   },
   "source": [
    "## Send request to model servable"
   ]
  },
  {
   "cell_type": "code",
   "execution_count": 31,
   "metadata": {
    "colab": {},
    "colab_type": "code",
    "id": "9FfmZpU6YIOy"
   },
   "outputs": [
    {
     "name": "stdout",
     "output_type": "stream",
     "text": [
      "Output value:\n",
      "7\n",
      "Ground truth label:\n",
      "7\n"
     ]
    }
   ],
   "source": [
    "float_val=np.array([x_test[0]]).flatten().astype(np.float32)\n",
    "request = hs.PredictRequest(model_spec=model_spec, inputs={\"imgs\": tensor}) \n",
    "result = stub.Predict(request)\n",
    "print('Output value:')\n",
    "result= np.array(result.outputs['probabilities'].float_val)\n",
    "print(np.array(result).argmax())\n",
    "print('Ground truth label:')\n",
    "print(y_test[0].argmax())"
   ]
  }
 ],
 "metadata": {
  "colab": {
   "name": "Untitled20.ipynb",
   "provenance": [],
   "version": "0.3.2"
  },
  "kernelspec": {
   "display_name": "Python 3",
   "language": "python",
   "name": "python3"
  },
  "language_info": {
   "codemirror_mode": {
    "name": "ipython",
    "version": 3
   },
   "file_extension": ".py",
   "mimetype": "text/x-python",
   "name": "python",
   "nbconvert_exporter": "python",
   "pygments_lexer": "ipython3",
   "version": "3.7.4"
  }
 },
 "nbformat": 4,
 "nbformat_minor": 1
}
