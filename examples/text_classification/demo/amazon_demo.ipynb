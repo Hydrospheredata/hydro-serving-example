{
 "cells": [
  {
   "cell_type": "code",
   "execution_count": 69,
   "metadata": {},
   "outputs": [],
   "source": [
    "import hydro_serving_grpc as hs\n",
    "import grpc"
   ]
  },
  {
   "cell_type": "code",
   "execution_count": 24,
   "metadata": {},
   "outputs": [],
   "source": [
    "import bz2\n",
    "import re\n",
    "import numpy as np"
   ]
  },
  {
   "cell_type": "code",
   "execution_count": 68,
   "metadata": {},
   "outputs": [],
   "source": [
    "channel = grpc.insecure_channel(\"localhost:9090\") \n",
    "stub = hs.PredictionServiceStub(channel)"
   ]
  },
  {
   "cell_type": "markdown",
   "metadata": {},
   "source": [
    "# Amazon reviews dataset for sentiment analysis"
   ]
  },
  {
   "cell_type": "markdown",
   "metadata": {},
   "source": [
    "## 1. Load Data\n",
    "\n",
    "- you can skip this step if you do not want to test on real amazon data"
   ]
  },
  {
   "cell_type": "code",
   "execution_count": 5,
   "metadata": {},
   "outputs": [],
   "source": [
    "train_file = bz2.BZ2File('../data/train.ft.txt.bz2')\n",
    "test_file = bz2.BZ2File('../data/test.ft.txt.bz2')\n",
    "train_file_lines = train_file.readlines()\n",
    "test_file_lines = test_file.readlines()"
   ]
  },
  {
   "cell_type": "code",
   "execution_count": 6,
   "metadata": {},
   "outputs": [],
   "source": [
    "train_file_lines = [x.decode('utf-8') for x in train_file_lines]\n",
    "test_file_lines = [x.decode('utf-8') for x in test_file_lines]"
   ]
  },
  {
   "cell_type": "code",
   "execution_count": 9,
   "metadata": {},
   "outputs": [],
   "source": [
    "train_labels = [0 if x.split(' ')[0] == '__label__1' else 1 for x in train_file_lines]\n",
    "train_sentences = [x.split(' ', 1)[1][:-1].lower() for x in train_file_lines]\n",
    "for i in range(len(train_sentences)):\n",
    "    train_sentences[i] = re.sub('\\d','0',train_sentences[i])"
   ]
  },
  {
   "cell_type": "code",
   "execution_count": 10,
   "metadata": {},
   "outputs": [],
   "source": [
    "test_labels = [0 if x.split(' ')[0] == '__label__1' else 1 for x in test_file_lines]\n",
    "test_sentences = [x.split(' ', 1)[1][:-1].lower() for x in test_file_lines]\n",
    "for i in range(len(test_sentences)):\n",
    "    test_sentences[i] = re.sub('\\d','0', test_sentences[i])"
   ]
  },
  {
   "cell_type": "code",
   "execution_count": 11,
   "metadata": {},
   "outputs": [],
   "source": [
    "for i in range(len(train_sentences)):\n",
    "    if 'www.' in train_sentences[i] or 'http:' in train_sentences[i] or 'https:' in train_sentences[i] or '.com' in train_sentences[i]:\n",
    "        train_sentences[i] = re.sub(r\"([^ ]+(?<=\\.[a-z]{3}))\", \"<url>\", train_sentences[i])\n",
    "        \n",
    "for i in range(len(test_sentences)):\n",
    "    if 'www.' in test_sentences[i] or 'http:' in test_sentences[i] or 'https:' in test_sentences[i] or '.com' in test_sentences[i]:\n",
    "        test_sentences[i] = re.sub(r\"([^ ]+(?<=\\.[a-z]{3}))\", \"<url>\", test_sentences[i])"
   ]
  },
  {
   "cell_type": "code",
   "execution_count": 14,
   "metadata": {},
   "outputs": [
    {
     "data": {
      "text/plain": [
       "'great cd: my lovely pat has one of the great voices of her generation. i have listened to this cd for years and i still love it. when i\\'m in a good mood it makes me feel better. a bad mood just evaporates like sugar in the rain. this cd just oozes life. vocals are jusat stuunning and lyrics just kill. one of life\\'s hidden gems. this is a desert isle cd in my book. why she never made it big is just beyond me. everytime i play this, no matter black, white, young, old, male, female everybody says one thing \"who was that singing ?\"'"
      ]
     },
     "execution_count": 14,
     "metadata": {},
     "output_type": "execute_result"
    }
   ],
   "source": [
    "review = test_sentences[0]\n",
    "review"
   ]
  },
  {
   "cell_type": "markdown",
   "metadata": {},
   "source": [
    "## 2. Test tokenizer"
   ]
  },
  {
   "cell_type": "code",
   "execution_count": 15,
   "metadata": {},
   "outputs": [],
   "source": [
    "tokenize_model = hs.ModelSpec(name=\"tokenizer\") # change name to your application name"
   ]
  },
  {
   "cell_type": "code",
   "execution_count": 16,
   "metadata": {},
   "outputs": [],
   "source": [
    "tensor_shape = hs.TensorShapeProto()\n",
    "transaction_tensor = hs.TensorProto(dtype=hs.DT_STRING,\n",
    "                                    string_val = [review.encode()],\n",
    "                                    tensor_shape=tensor_shape)"
   ]
  },
  {
   "cell_type": "code",
   "execution_count": 18,
   "metadata": {},
   "outputs": [
    {
     "data": {
      "text/plain": [
       "outputs {\n",
       "  key: \"tokenized\"\n",
       "  value {\n",
       "    dtype: DT_INT64\n",
       "    tensor_shape {\n",
       "    }\n",
       "    int64_val: 95\n",
       "    int64_val: 21\n",
       "    int64_val: 1531\n",
       "    int64_val: 4475\n",
       "    int64_val: 44\n",
       "    int64_val: 24\n",
       "    int64_val: 7\n",
       "    int64_val: 1\n",
       "    int64_val: 30\n",
       "    int64_val: 1917\n",
       "    int64_val: 7\n",
       "    int64_val: 79\n",
       "    int64_val: 1957\n",
       "    int64_val: 3\n",
       "    int64_val: 20\n",
       "    int64_val: 1030\n",
       "    int64_val: 5\n",
       "    int64_val: 8\n",
       "    int64_val: 95\n",
       "    int64_val: 11\n",
       "    int64_val: 138\n",
       "    int64_val: 2\n",
       "    int64_val: 3\n",
       "    int64_val: 127\n",
       "    int64_val: 81\n",
       "    int64_val: 6\n",
       "    int64_val: 51\n",
       "    int64_val: 110\n",
       "    int64_val: 10\n",
       "    int64_val: 4\n",
       "    int64_val: 32\n",
       "    int64_val: 2062\n",
       "    int64_val: 6\n",
       "    int64_val: 209\n",
       "    int64_val: 43\n",
       "    int64_val: 229\n",
       "    int64_val: 91\n",
       "    int64_val: 4\n",
       "    int64_val: 128\n",
       "    int64_val: 2062\n",
       "    int64_val: 36\n",
       "    int64_val: 33\n",
       "    int64_val: 2304\n",
       "    int64_val: 10\n",
       "    int64_val: 1\n",
       "    int64_val: 2274\n",
       "    int64_val: 8\n",
       "    int64_val: 95\n",
       "    int64_val: 36\n",
       "    int64_val: 154\n",
       "    int64_val: 1031\n",
       "    int64_val: 23\n",
       "    int64_val: 2\n",
       "    int64_val: 646\n",
       "    int64_val: 36\n",
       "    int64_val: 1528\n",
       "    int64_val: 24\n",
       "    int64_val: 7\n",
       "    int64_val: 6335\n",
       "    int64_val: 2461\n",
       "    int64_val: 4235\n",
       "    int64_val: 8\n",
       "    int64_val: 9\n",
       "    int64_val: 4\n",
       "    int64_val: 3888\n",
       "    int64_val: 12033\n",
       "    int64_val: 95\n",
       "    int64_val: 10\n",
       "    int64_val: 21\n",
       "    int64_val: 19\n",
       "    int64_val: 182\n",
       "    int64_val: 97\n",
       "    int64_val: 122\n",
       "    int64_val: 129\n",
       "    int64_val: 6\n",
       "    int64_val: 220\n",
       "    int64_val: 9\n",
       "    int64_val: 36\n",
       "    int64_val: 861\n",
       "    int64_val: 43\n",
       "    int64_val: 2693\n",
       "    int64_val: 3\n",
       "    int64_val: 235\n",
       "    int64_val: 8\n",
       "    int64_val: 54\n",
       "    int64_val: 615\n",
       "    int64_val: 429\n",
       "    int64_val: 576\n",
       "    int64_val: 459\n",
       "    int64_val: 134\n",
       "    int64_val: 1776\n",
       "    int64_val: 1351\n",
       "    int64_val: 2198\n",
       "    int64_val: 498\n",
       "    int64_val: 24\n",
       "    int64_val: 162\n",
       "    int64_val: 72\n",
       "    int64_val: 13\n",
       "    int64_val: 12\n",
       "    int64_val: 910\n",
       "  }\n",
       "}"
      ]
     },
     "execution_count": 18,
     "metadata": {},
     "output_type": "execute_result"
    }
   ],
   "source": [
    "request = hs.PredictRequest(model_spec=tokenize_model, inputs={\"text\":transaction_tensor})\n",
    "result = stub.Predict(request)\n",
    "result"
   ]
  },
  {
   "cell_type": "code",
   "execution_count": 19,
   "metadata": {},
   "outputs": [],
   "source": [
    "tokenized_sentence = answer = result.outputs.get('tokenized').int64_val"
   ]
  },
  {
   "cell_type": "markdown",
   "metadata": {},
   "source": [
    "# 2. Test prediciton model"
   ]
  },
  {
   "cell_type": "code",
   "execution_count": 22,
   "metadata": {},
   "outputs": [],
   "source": [
    "prediction_model = hs.ModelSpec(name=\"amazon_est\") # change name to your own created application"
   ]
  },
  {
   "cell_type": "code",
   "execution_count": 26,
   "metadata": {},
   "outputs": [],
   "source": [
    "tensor_shape = hs.TensorShapeProto()\n",
    "tokenized_tensor = hs.TensorProto(dtype=hs.DT_INT64,\n",
    "                                    int64_val = np.array(tokenized_sentence),\n",
    "                                    tensor_shape=tensor_shape)"
   ]
  },
  {
   "cell_type": "code",
   "execution_count": 27,
   "metadata": {},
   "outputs": [],
   "source": [
    "request = hs.PredictRequest(model_spec=prediction_model, inputs={\"tokenized\":tokenized_tensor})\n",
    "result = stub.Predict(request)"
   ]
  },
  {
   "cell_type": "code",
   "execution_count": 28,
   "metadata": {},
   "outputs": [
    {
     "data": {
      "text/plain": [
       "outputs {\n",
       "  key: \"confidence\"\n",
       "  value {\n",
       "    dtype: DT_DOUBLE\n",
       "    tensor_shape {\n",
       "    }\n",
       "    double_val: 0.9660149216651917\n",
       "  }\n",
       "}\n",
       "outputs {\n",
       "  key: \"label\"\n",
       "  value {\n",
       "    dtype: DT_INT32\n",
       "    tensor_shape {\n",
       "    }\n",
       "    int_val: 1\n",
       "  }\n",
       "}"
      ]
     },
     "execution_count": 28,
     "metadata": {},
     "output_type": "execute_result"
    }
   ],
   "source": [
    "result"
   ]
  },
  {
   "cell_type": "code",
   "execution_count": 41,
   "metadata": {},
   "outputs": [],
   "source": [
    "label_tensor, conf_tensor = result.outputs.get('label'), result.outputs.get('confidence')"
   ]
  },
  {
   "cell_type": "code",
   "execution_count": 42,
   "metadata": {},
   "outputs": [],
   "source": [
    "predicted_label = label_tensor.int_val[0]"
   ]
  },
  {
   "cell_type": "code",
   "execution_count": 43,
   "metadata": {},
   "outputs": [
    {
     "data": {
      "text/plain": [
       "True"
      ]
     },
     "execution_count": 43,
     "metadata": {},
     "output_type": "execute_result"
    }
   ],
   "source": [
    "predicted_label == test_labels[0]\n"
   ]
  },
  {
   "cell_type": "markdown",
   "metadata": {},
   "source": [
    "# 3. Testing whole pipeline"
   ]
  },
  {
   "cell_type": "code",
   "execution_count": 56,
   "metadata": {},
   "outputs": [],
   "source": [
    "pipeline_model = hs.ModelSpec(name=\"amazon_reviews\") # change name to your own created application\n"
   ]
  },
  {
   "cell_type": "code",
   "execution_count": 59,
   "metadata": {},
   "outputs": [],
   "source": [
    "tensor_shape = hs.TensorShapeProto()\n",
    "transaction_tensor = hs.TensorProto(dtype=hs.DT_STRING,\n",
    "                                    string_val = [review.encode()],\n",
    "                                    tensor_shape=tensor_shape)"
   ]
  },
  {
   "cell_type": "code",
   "execution_count": 60,
   "metadata": {},
   "outputs": [
    {
     "data": {
      "text/plain": [
       "outputs {\n",
       "  key: \"confidence\"\n",
       "  value {\n",
       "    dtype: DT_DOUBLE\n",
       "    tensor_shape {\n",
       "    }\n",
       "    double_val: 0.9660149216651917\n",
       "  }\n",
       "}\n",
       "outputs {\n",
       "  key: \"label\"\n",
       "  value {\n",
       "    dtype: DT_INT32\n",
       "    tensor_shape {\n",
       "    }\n",
       "    int_val: 1\n",
       "  }\n",
       "}"
      ]
     },
     "execution_count": 60,
     "metadata": {},
     "output_type": "execute_result"
    }
   ],
   "source": [
    "request = hs.PredictRequest(model_spec=pipeline_model, inputs={\"text\":transaction_tensor})\n",
    "result = stub.Predict(request)\n",
    "result"
   ]
  }
 ],
 "metadata": {
  "kernelspec": {
   "display_name": "Python 3",
   "language": "python",
   "name": "python3"
  },
  "language_info": {
   "codemirror_mode": {
    "name": "ipython",
    "version": 3
   },
   "file_extension": ".py",
   "mimetype": "text/x-python",
   "name": "python",
   "nbconvert_exporter": "python",
   "pygments_lexer": "ipython3",
   "version": "3.7.4"
  }
 },
 "nbformat": 4,
 "nbformat_minor": 2
}
