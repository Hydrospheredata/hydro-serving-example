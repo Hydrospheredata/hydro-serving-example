{
 "cells": [
  {
   "cell_type": "code",
   "execution_count": 66,
   "metadata": {},
   "outputs": [],
   "source": [
    "import hydro_serving_grpc as hs\n",
    "import grpc"
   ]
  },
  {
   "cell_type": "code",
   "execution_count": 67,
   "metadata": {},
   "outputs": [],
   "source": [
    "import bz2\n",
    "import re\n",
    "import numpy as np"
   ]
  },
  {
   "cell_type": "code",
   "execution_count": 68,
   "metadata": {},
   "outputs": [],
   "source": [
    "channel = grpc.insecure_channel(\"localhost:9090\") \n",
    "stub = hs.PredictionServiceStub(channel)"
   ]
  },
  {
   "cell_type": "markdown",
   "metadata": {},
   "source": [
    "# Amazon reviews dataset for sentiment analysis"
   ]
  },
  {
   "cell_type": "markdown",
   "metadata": {},
   "source": [
    "## 1. Load Data\n",
    "\n",
    "- you can skip this step if you do not want to test on real amazon data"
   ]
  },
  {
   "cell_type": "code",
   "execution_count": 4,
   "metadata": {},
   "outputs": [],
   "source": [
    "train_file = bz2.BZ2File('../data/train.ft.txt.bz2')\n",
    "test_file = bz2.BZ2File('../data/test.ft.txt.bz2')\n",
    "train_file_lines = train_file.readlines()\n",
    "test_file_lines = test_file.readlines()"
   ]
  },
  {
   "cell_type": "code",
   "execution_count": 5,
   "metadata": {},
   "outputs": [],
   "source": [
    "train_file_lines = [x.decode('utf-8') for x in train_file_lines]\n",
    "test_file_lines = [x.decode('utf-8') for x in test_file_lines]"
   ]
  },
  {
   "cell_type": "code",
   "execution_count": 6,
   "metadata": {},
   "outputs": [],
   "source": [
    "train_labels = [0 if x.split(' ')[0] == '__label__1' else 1 for x in train_file_lines]\n",
    "train_sentences = [x.split(' ', 1)[1][:-1].lower() for x in train_file_lines]\n",
    "for i in range(len(train_sentences)):\n",
    "    train_sentences[i] = re.sub('\\d','0',train_sentences[i])"
   ]
  },
  {
   "cell_type": "code",
   "execution_count": 7,
   "metadata": {},
   "outputs": [],
   "source": [
    "test_labels = [0 if x.split(' ')[0] == '__label__1' else 1 for x in test_file_lines]\n",
    "test_sentences = [x.split(' ', 1)[1][:-1].lower() for x in test_file_lines]\n",
    "for i in range(len(test_sentences)):\n",
    "    test_sentences[i] = re.sub('\\d','0', test_sentences[i])"
   ]
  },
  {
   "cell_type": "code",
   "execution_count": 8,
   "metadata": {},
   "outputs": [],
   "source": [
    "for i in range(len(train_sentences)):\n",
    "    if 'www.' in train_sentences[i] or 'http:' in train_sentences[i] or 'https:' in train_sentences[i] or '.com' in train_sentences[i]:\n",
    "        train_sentences[i] = re.sub(r\"([^ ]+(?<=\\.[a-z]{3}))\", \"<url>\", train_sentences[i])\n",
    "        \n",
    "for i in range(len(test_sentences)):\n",
    "    if 'www.' in test_sentences[i] or 'http:' in test_sentences[i] or 'https:' in test_sentences[i] or '.com' in test_sentences[i]:\n",
    "        test_sentences[i] = re.sub(r\"([^ ]+(?<=\\.[a-z]{3}))\", \"<url>\", test_sentences[i])"
   ]
  },
  {
   "cell_type": "code",
   "execution_count": 9,
   "metadata": {},
   "outputs": [
    {
     "data": {
      "text/plain": [
       "'great cd: my lovely pat has one of the great voices of her generation. i have listened to this cd for years and i still love it. when i\\'m in a good mood it makes me feel better. a bad mood just evaporates like sugar in the rain. this cd just oozes life. vocals are jusat stuunning and lyrics just kill. one of life\\'s hidden gems. this is a desert isle cd in my book. why she never made it big is just beyond me. everytime i play this, no matter black, white, young, old, male, female everybody says one thing \"who was that singing ?\"'"
      ]
     },
     "execution_count": 9,
     "metadata": {},
     "output_type": "execute_result"
    }
   ],
   "source": [
    "review = test_sentences[0]\n",
    "review"
   ]
  },
  {
   "cell_type": "markdown",
   "metadata": {},
   "source": [
    "## 2. Test tokenizer\n",
    "\n",
    "For tokenization we use our deployed model amazon tokenizer for which we created an application"
   ]
  },
  {
   "cell_type": "code",
   "execution_count": 10,
   "metadata": {},
   "outputs": [],
   "source": [
    "tokenize_model = hs.ModelSpec(name=\"amazon_tokenizer\") # change name to your application name"
   ]
  },
  {
   "cell_type": "code",
   "execution_count": 11,
   "metadata": {},
   "outputs": [],
   "source": [
    "tensor_shape = hs.TensorShapeProto()\n",
    "text_tensor = hs.TensorProto(dtype=hs.DT_STRING,\n",
    "                                    string_val = [review.encode()],\n",
    "                                    tensor_shape=tensor_shape)"
   ]
  },
  {
   "cell_type": "code",
   "execution_count": 12,
   "metadata": {},
   "outputs": [],
   "source": [
    "request = hs.PredictRequest(model_spec=tokenize_model, inputs={\"text\":text_tensor})\n",
    "result = stub.Predict(request)"
   ]
  },
  {
   "cell_type": "code",
   "execution_count": 13,
   "metadata": {},
   "outputs": [],
   "source": [
    "tokenized_sentence = result.outputs.get('tokenized').int64_val"
   ]
  },
  {
   "cell_type": "code",
   "execution_count": 14,
   "metadata": {},
   "outputs": [
    {
     "data": {
      "text/plain": [
       "[95, 21, 1531, 4475, 44, 24, 7, 1, 30, 1917, 7, 79, 1957, 3, 20, 1030, 5, 8, 95, 11, 138, 2, 3, 127, 81, 6, 51, 110, 10, 4, 32, 2062, 6, 209, 43, 229, 91, 4, 128, 2062, 36, 33, 2304, 10, 1, 2274, 8, 95, 36, 154, 1031, 23, 2, 646, 36, 1528, 24, 7, 6335, 2461, 4235, 8, 9, 4, 3888, 12033, 95, 10, 21, 19, 182, 97, 122, 129, 6, 220, 9, 36, 861, 43, 2693, 3, 235, 8, 54, 615, 429, 576, 459, 134, 1776, 1351, 2198, 498, 24, 162, 72, 13, 12, 910]"
      ]
     },
     "execution_count": 14,
     "metadata": {},
     "output_type": "execute_result"
    }
   ],
   "source": [
    "tokenized_sentence"
   ]
  },
  {
   "cell_type": "markdown",
   "metadata": {},
   "source": [
    "# 2. Test prediciton model\n",
    "\n",
    "For sentiment prediction we use estimator model for which we created application"
   ]
  },
  {
   "cell_type": "code",
   "execution_count": 18,
   "metadata": {},
   "outputs": [],
   "source": [
    "prediction_model = hs.ModelSpec(name=\"amazon_est\") # change name to your own created application"
   ]
  },
  {
   "cell_type": "code",
   "execution_count": 19,
   "metadata": {},
   "outputs": [],
   "source": [
    "tensor_shape = hs.TensorShapeProto(dim=[hs.TensorShapeProto.Dim(size=100)])\n",
    "tokenized_tensor = hs.TensorProto(dtype=hs.DT_INT64,\n",
    "                                    int64_val = np.array(tokenized_sentence),\n",
    "                                    tensor_shape=tensor_shape)"
   ]
  },
  {
   "cell_type": "code",
   "execution_count": 20,
   "metadata": {},
   "outputs": [],
   "source": [
    "request = hs.PredictRequest(model_spec=prediction_model, inputs={\"tokenized\":tokenized_tensor})\n",
    "result = stub.Predict(request)"
   ]
  },
  {
   "cell_type": "code",
   "execution_count": 21,
   "metadata": {},
   "outputs": [
    {
     "data": {
      "text/plain": [
       "outputs {\n",
       "  key: \"confidence\"\n",
       "  value {\n",
       "    dtype: DT_DOUBLE\n",
       "    tensor_shape {\n",
       "    }\n",
       "    double_val: 0.9660149216651917\n",
       "  }\n",
       "}\n",
       "outputs {\n",
       "  key: \"label\"\n",
       "  value {\n",
       "    dtype: DT_INT32\n",
       "    tensor_shape {\n",
       "    }\n",
       "    int_val: 1\n",
       "  }\n",
       "}"
      ]
     },
     "execution_count": 21,
     "metadata": {},
     "output_type": "execute_result"
    }
   ],
   "source": [
    "result"
   ]
  },
  {
   "cell_type": "code",
   "execution_count": 22,
   "metadata": {},
   "outputs": [
    {
     "name": "stdout",
     "output_type": "stream",
     "text": [
      "Predicted score: 0.9660149216651917 \n",
      "Predicted label: 1 \n",
      "Real label: 1\n"
     ]
    }
   ],
   "source": [
    "label_tensor, conf_tensor = result.outputs.get('label'), result.outputs.get('confidence')\n",
    "predicted_label = label_tensor.int_val[0]\n",
    "predicted_conf = conf_tensor.double_val[0]\n",
    "print(f'Predicted score: {predicted_conf} \\nPredicted label: {predicted_label} \\nReal label: {test_labels[0]}')"
   ]
  },
  {
   "cell_type": "markdown",
   "metadata": {},
   "source": [
    "# 3. Testing whole pipeline\n",
    "\n",
    "For this test we created a pipeline application that consists of two stages:\n",
    "\n",
    "- tokenization\n",
    "- sentiment estimation\n",
    "\n",
    "In this app we pass whole review text and receive it's sentiment prediction"
   ]
  },
  {
   "cell_type": "code",
   "execution_count": 37,
   "metadata": {},
   "outputs": [],
   "source": [
    "pipeline_model = hs.ModelSpec(name=\"amazon_reviews\") # change name to your own created application\n"
   ]
  },
  {
   "cell_type": "code",
   "execution_count": 38,
   "metadata": {},
   "outputs": [],
   "source": [
    "tensor_shape = hs.TensorShapeProto()\n",
    "text_tensor = hs.TensorProto(dtype=hs.DT_STRING,\n",
    "                                    string_val = [review.encode()],\n",
    "                                    tensor_shape=tensor_shape)"
   ]
  },
  {
   "cell_type": "code",
   "execution_count": 39,
   "metadata": {},
   "outputs": [
    {
     "data": {
      "text/plain": [
       "outputs {\n",
       "  key: \"confidence\"\n",
       "  value {\n",
       "    dtype: DT_DOUBLE\n",
       "    tensor_shape {\n",
       "    }\n",
       "    double_val: 0.9660149216651917\n",
       "  }\n",
       "}\n",
       "outputs {\n",
       "  key: \"label\"\n",
       "  value {\n",
       "    dtype: DT_INT32\n",
       "    tensor_shape {\n",
       "    }\n",
       "    int_val: 1\n",
       "  }\n",
       "}"
      ]
     },
     "execution_count": 39,
     "metadata": {},
     "output_type": "execute_result"
    }
   ],
   "source": [
    "request = hs.PredictRequest(model_spec=pipeline_model, inputs={\"text\":text_tensor})\n",
    "result = stub.Predict(request)\n",
    "result"
   ]
  },
  {
   "cell_type": "code",
   "execution_count": 60,
   "metadata": {},
   "outputs": [
    {
     "name": "stdout",
     "output_type": "stream",
     "text": [
      "Predicted score: 0.9660149216651917 \n",
      "Predicted label: 1 \n",
      "Real label: 1\n"
     ]
    }
   ],
   "source": [
    "label_tensor, conf_tensor = result.outputs.get('label'), result.outputs.get('confidence')\n",
    "predicted_label = label_tensor.int_val[0]\n",
    "predicted_conf = conf_tensor.double_val[0]\n",
    "print(f'Predicted score: {predicted_conf} \\nPredicted label: {predicted_label} \\nReal label: {test_labels[0]}')"
   ]
  }
 ],
 "metadata": {
  "kernelspec": {
   "display_name": "Python 3",
   "language": "python",
   "name": "python3"
  },
  "language_info": {
   "codemirror_mode": {
    "name": "ipython",
    "version": 3
   },
   "file_extension": ".py",
   "mimetype": "text/x-python",
   "name": "python",
   "nbconvert_exporter": "python",
   "pygments_lexer": "ipython3",
   "version": "3.7.4"
  }
 },
 "nbformat": 4,
 "nbformat_minor": 2
}
