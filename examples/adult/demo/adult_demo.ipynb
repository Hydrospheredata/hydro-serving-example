{
 "cells": [
  {
   "cell_type": "markdown",
   "metadata": {
    "colab_type": "text",
    "id": "2Gq2lJz1SRor"
   },
   "source": [
    "# Adult classification demo"
   ]
  },
  {
   "cell_type": "markdown",
   "metadata": {},
   "source": [
    "adult_tensor model sends all parameters as one tensor\n",
    "\n",
    "adult_scalar sends 12 named features."
   ]
  },
  {
   "cell_type": "markdown",
   "metadata": {
    "colab_type": "text",
    "id": "quIYAbubSeN0"
   },
   "source": [
    "\n",
    "\n"
   ]
  },
  {
   "cell_type": "code",
   "execution_count": 12,
   "metadata": {
    "colab": {
     "base_uri": "https://localhost:8080/",
     "height": 368
    },
    "colab_type": "code",
    "id": "i83cjv9RSbXf",
    "outputId": "38bee1c6-a351-48ba-80a0-7a67db2a0376"
   },
   "outputs": [],
   "source": [
    "import grpc \n",
    "import numpy as np\n",
    "import hydro_serving_grpc as hs\n",
    "from grpc import ssl_channel_credentials"
   ]
  },
  {
   "cell_type": "markdown",
   "metadata": {
    "colab_type": "text",
    "id": "eHwNSEf1Stab"
   },
   "source": [
    "## Read data sample"
   ]
  },
  {
   "cell_type": "code",
   "execution_count": 3,
   "metadata": {
    "colab": {
     "base_uri": "https://localhost:8080/",
     "height": 232
    },
    "colab_type": "code",
    "id": "JjobUoeqS_fK",
    "outputId": "97f79f18-d24e-4142-d90c-898ee3534e9d",
    "scrolled": false
   },
   "outputs": [],
   "source": [
    "val = np.ones((1,12), dtype=\"int64\").flatten()"
   ]
  },
  {
   "cell_type": "markdown",
   "metadata": {},
   "source": [
    "## Setup channel"
   ]
  },
  {
   "cell_type": "code",
   "execution_count": 13,
   "metadata": {
    "colab": {},
    "colab_type": "code",
    "id": "AgYQ8xHMXZbN"
   },
   "outputs": [],
   "source": [
    "channel = grpc.secure_channel(\"dev.k8s.hydrosphere.io\", credentials=ssl_channel_credentials()) \n",
    "stub = hs.PredictionServiceStub(channel) "
   ]
  },
  {
   "cell_type": "markdown",
   "metadata": {},
   "source": [
    "## Adult tensor version"
   ]
  },
  {
   "cell_type": "code",
   "execution_count": 26,
   "metadata": {},
   "outputs": [],
   "source": [
    "model_spec = hs.ModelSpec(name=\"adult_tensor\")"
   ]
  },
  {
   "cell_type": "markdown",
   "metadata": {
    "colab_type": "text",
    "id": "AEu3ChnjXeAJ"
   },
   "source": [
    "## Create tensors"
   ]
  },
  {
   "cell_type": "code",
   "execution_count": 27,
   "metadata": {
    "colab": {},
    "colab_type": "code",
    "id": "Cvnwfuj3XiXa"
   },
   "outputs": [],
   "source": [
    "tensor_shape = hs.TensorShapeProto(dim=[hs.TensorShapeProto.Dim(size=-1), hs.TensorShapeProto.Dim(size=12)])\n",
    "tensor = hs.TensorProto(dtype=hs.DT_INT64, tensor_shape=tensor_shape, int64_val=val)"
   ]
  },
  {
   "cell_type": "markdown",
   "metadata": {
    "colab_type": "text",
    "id": "x9IQH5ZgYEQF"
   },
   "source": [
    "## Send request to model servable"
   ]
  },
  {
   "cell_type": "code",
   "execution_count": 28,
   "metadata": {
    "colab": {},
    "colab_type": "code",
    "id": "9FfmZpU6YIOy"
   },
   "outputs": [
    {
     "name": "stdout",
     "output_type": "stream",
     "text": [
      "Result class: 0\n"
     ]
    }
   ],
   "source": [
    "request = hs.PredictRequest(model_spec=model_spec, inputs={\"input\": tensor}) \n",
    "result = stub.Predict(request)\n",
    "classes = result.outputs['classes'].int64_val[0]\n",
    "print(f'Result class: {classes}')"
   ]
  },
  {
   "cell_type": "markdown",
   "metadata": {},
   "source": [
    "## Adult scalar version"
   ]
  },
  {
   "cell_type": "code",
   "execution_count": 37,
   "metadata": {},
   "outputs": [],
   "source": [
    "model_spec = hs.ModelSpec(name=\"adult_scalar_new\")"
   ]
  },
  {
   "cell_type": "code",
   "execution_count": 41,
   "metadata": {},
   "outputs": [],
   "source": [
    "age_tensor = hs.TensorProto(dtype=hs.DT_INT64, int64_val=[val[0]])\n",
    "workclass_tensor = hs.TensorProto(dtype=hs.DT_INT64, int64_val=[val[1]])\n",
    "edu_tensor = hs.TensorProto(dtype=hs.DT_INT64, int64_val=[val[2]])\n",
    "marital_tensor = hs.TensorProto(dtype=hs.DT_INT64, int64_val=[val[3]])\n",
    "occupation_tensor = hs.TensorProto(dtype=hs.DT_INT64, int64_val=[val[4]])\n",
    "relationship_tensor = hs.TensorProto(dtype=hs.DT_INT64, int64_val=[val[5]])\n",
    "race_tensor = hs.TensorProto(dtype=hs.DT_INT64, int64_val=[val[6]])\n",
    "sex_tensor = hs.TensorProto(dtype=hs.DT_INT64, int64_val=[val[7]])\n",
    "gain_tensor = hs.TensorProto(dtype=hs.DT_INT64, int64_val=[val[8]])\n",
    "loss_tensor = hs.TensorProto(dtype=hs.DT_INT64, int64_val=[val[9]])\n",
    "hours_tensor = hs.TensorProto(dtype=hs.DT_INT64, int64_val=[val[10]])\n",
    "country_tensor = hs.TensorProto(dtype=hs.DT_INT64, int64_val=[val[11]])"
   ]
  },
  {
   "cell_type": "code",
   "execution_count": 42,
   "metadata": {},
   "outputs": [],
   "source": [
    "request = hs.PredictRequest(model_spec=model_spec, inputs={\"age\": age_tensor, \"workclass\": workclass_tensor, \n",
    "                                                          \"education\": edu_tensor, \"marital_status\": marital_tensor,\n",
    "                                                          \"occupation\": occupation_tensor, \"relationship\":relationship_tensor,\n",
    "                                                          \"race\": race_tensor, \"sex\": sex_tensor, \"capital_gain\": gain_tensor, \n",
    "                                                          \"capital_loss\": loss_tensor, \"hours_per_week\":hours_tensor, \"country\":country_tensor}) "
   ]
  },
  {
   "cell_type": "code",
   "execution_count": 43,
   "metadata": {},
   "outputs": [
    {
     "name": "stdout",
     "output_type": "stream",
     "text": [
      "Result class: 0\n"
     ]
    }
   ],
   "source": [
    "result = stub.Predict(request)\n",
    "classes = result.outputs['classes'].int64_val[0]\n",
    "print(f'Result class: {classes}')"
   ]
  }
 ],
 "metadata": {
  "colab": {
   "name": "Untitled20.ipynb",
   "provenance": [],
   "version": "0.3.2"
  },
  "kernelspec": {
   "display_name": "Python 3",
   "language": "python",
   "name": "python3"
  },
  "language_info": {
   "codemirror_mode": {
    "name": "ipython",
    "version": 3
   },
   "file_extension": ".py",
   "mimetype": "text/x-python",
   "name": "python",
   "nbconvert_exporter": "python",
   "pygments_lexer": "ipython3",
   "version": "3.7.0"
  }
 },
 "nbformat": 4,
 "nbformat_minor": 1
}
