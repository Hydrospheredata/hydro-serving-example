{
 "cells": [
  {
   "cell_type": "markdown",
   "metadata": {
    "colab_type": "text",
    "id": "2Gq2lJz1SRor"
   },
   "source": [
    "# Adult classification demo"
   ]
  },
  {
   "cell_type": "markdown",
   "metadata": {
    "colab_type": "text",
    "id": "quIYAbubSeN0"
   },
   "source": [
    "\n",
    "\n"
   ]
  },
  {
   "cell_type": "code",
   "execution_count": 1,
   "metadata": {
    "colab": {
     "base_uri": "https://localhost:8080/",
     "height": 368
    },
    "colab_type": "code",
    "id": "i83cjv9RSbXf",
    "outputId": "38bee1c6-a351-48ba-80a0-7a67db2a0376"
   },
   "outputs": [],
   "source": [
    "import grpc \n",
    "import numpy as np\n",
    "import hydro_serving_grpc as hs"
   ]
  },
  {
   "cell_type": "markdown",
   "metadata": {
    "colab_type": "text",
    "id": "eHwNSEf1Stab"
   },
   "source": [
    "## Read data sample"
   ]
  },
  {
   "cell_type": "code",
   "execution_count": 2,
   "metadata": {
    "colab": {
     "base_uri": "https://localhost:8080/",
     "height": 232
    },
    "colab_type": "code",
    "id": "JjobUoeqS_fK",
    "outputId": "97f79f18-d24e-4142-d90c-898ee3534e9d",
    "scrolled": false
   },
   "outputs": [],
   "source": [
    "val = np.ones((1,12), dtype=\"int64\").flatten()"
   ]
  },
  {
   "cell_type": "markdown",
   "metadata": {},
   "source": [
    "## Setup channel"
   ]
  },
  {
   "cell_type": "code",
   "execution_count": 3,
   "metadata": {
    "colab": {},
    "colab_type": "code",
    "id": "AgYQ8xHMXZbN"
   },
   "outputs": [],
   "source": [
    "channel = grpc.insecure_channel(\"localhost:9090\") \n",
    "stub = hs.PredictionServiceStub(channel) \n",
    "model_spec = hs.ModelSpec(name=\"adult\")"
   ]
  },
  {
   "cell_type": "markdown",
   "metadata": {
    "colab_type": "text",
    "id": "AEu3ChnjXeAJ"
   },
   "source": [
    "## Create tensors"
   ]
  },
  {
   "cell_type": "code",
   "execution_count": 4,
   "metadata": {
    "colab": {},
    "colab_type": "code",
    "id": "Cvnwfuj3XiXa"
   },
   "outputs": [],
   "source": [
    "tensor_shape = hs.TensorShapeProto(dim=[hs.TensorShapeProto.Dim(size=-1), hs.TensorShapeProto.Dim(size=12)])\n",
    "tensor = hs.TensorProto(dtype=hs.DT_INT64, tensor_shape=tensor_shape, int64_val=val)"
   ]
  },
  {
   "cell_type": "markdown",
   "metadata": {
    "colab_type": "text",
    "id": "x9IQH5ZgYEQF"
   },
   "source": [
    "## Send request to model servable"
   ]
  },
  {
   "cell_type": "code",
   "execution_count": 6,
   "metadata": {
    "colab": {},
    "colab_type": "code",
    "id": "9FfmZpU6YIOy"
   },
   "outputs": [
    {
     "name": "stdout",
     "output_type": "stream",
     "text": [
      "Result class: 0\n"
     ]
    }
   ],
   "source": [
    "request = hs.PredictRequest(model_spec=model_spec, inputs={\"input\": tensor}) \n",
    "result = stub.Predict(request)\n",
    "classes = result.outputs['classes'].int64_val[0]\n",
    "print(f'Result class: {classes}')"
   ]
  }
 ],
 "metadata": {
  "colab": {
   "name": "Untitled20.ipynb",
   "provenance": [],
   "version": "0.3.2"
  },
  "kernelspec": {
   "display_name": "Python 3",
   "language": "python",
   "name": "python3"
  },
  "language_info": {
   "codemirror_mode": {
    "name": "ipython",
    "version": 3
   },
   "file_extension": ".py",
   "mimetype": "text/x-python",
   "name": "python",
   "nbconvert_exporter": "python",
   "pygments_lexer": "ipython3",
   "version": "3.7.4"
  }
 },
 "nbformat": 4,
 "nbformat_minor": 1
}
