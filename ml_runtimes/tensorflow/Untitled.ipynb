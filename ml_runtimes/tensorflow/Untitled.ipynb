{
 "cells": [
  {
   "cell_type": "code",
   "execution_count": 19,
   "metadata": {
    "collapsed": true
   },
   "outputs": [],
   "source": [
    "import tensorflow as tf\n",
    "import numpy as np"
   ]
  },
  {
   "cell_type": "code",
   "execution_count": 21,
   "metadata": {},
   "outputs": [
    {
     "name": "stdout",
     "output_type": "stream",
     "text": [
      "INFO:tensorflow:Using default config.\n",
      "WARNING:tensorflow:Using temporary folder as model directory: /tmp/tmprwyrovk4\n",
      "INFO:tensorflow:Using config: {'_task_type': None, '_task_id': 0, '_cluster_spec': <tensorflow.python.training.server_lib.ClusterSpec object at 0x7f68799949b0>, '_master': '', '_num_ps_replicas': 0, '_num_worker_replicas': 0, '_environment': 'local', '_is_chief': True, '_evaluation_master': '', '_tf_config': gpu_options {\n",
      "  per_process_gpu_memory_fraction: 1.0\n",
      "}\n",
      ", '_tf_random_seed': None, '_save_summary_steps': 100, '_save_checkpoints_secs': 600, '_session_config': None, '_save_checkpoints_steps': None, '_keep_checkpoint_max': 5, '_keep_checkpoint_every_n_hours': 10000, '_model_dir': '/tmp/tmprwyrovk4'}\n"
     ]
    }
   ],
   "source": [
    "features = [tf.contrib.layers.real_valued_column(\"x\", dimension=1)]\n",
    "estimator = tf.contrib.learn.LinearRegressor(feature_columns=features)"
   ]
  },
  {
   "cell_type": "code",
   "execution_count": 22,
   "metadata": {},
   "outputs": [
    {
     "name": "stdout",
     "output_type": "stream",
     "text": [
      "WARNING:tensorflow:From /home/bulat/anaconda3/lib/python3.6/site-packages/tensorflow/contrib/learn/python/learn/estimators/head.py:625: scalar_summary (from tensorflow.python.ops.logging_ops) is deprecated and will be removed after 2016-11-30.\n",
      "Instructions for updating:\n",
      "Please switch to tf.summary.scalar. Note that tf.summary.scalar uses the node name instead of the tag. This means that TensorFlow will automatically de-duplicate summary names based on the scope they are created in. Also, passing a tensor or list of tags to a scalar summary op is no longer supported.\n",
      "INFO:tensorflow:Create CheckpointSaverHook.\n",
      "INFO:tensorflow:Saving checkpoints for 1 into /tmp/tmprwyrovk4/model.ckpt.\n",
      "INFO:tensorflow:loss = 2.25, step = 1\n",
      "INFO:tensorflow:global_step/sec: 1264.16\n",
      "INFO:tensorflow:loss = 0.0158676, step = 101 (0.080 sec)\n",
      "INFO:tensorflow:global_step/sec: 853.134\n",
      "INFO:tensorflow:loss = 0.00884261, step = 201 (0.119 sec)\n",
      "INFO:tensorflow:global_step/sec: 792.17\n",
      "INFO:tensorflow:loss = 0.00257433, step = 301 (0.125 sec)\n",
      "INFO:tensorflow:global_step/sec: 924.273\n",
      "INFO:tensorflow:loss = 0.00020674, step = 401 (0.109 sec)\n",
      "INFO:tensorflow:global_step/sec: 884.296\n",
      "INFO:tensorflow:loss = 3.4873e-05, step = 501 (0.112 sec)\n",
      "INFO:tensorflow:global_step/sec: 736.991\n",
      "INFO:tensorflow:loss = 2.03468e-06, step = 601 (0.136 sec)\n",
      "INFO:tensorflow:global_step/sec: 1035.82\n",
      "INFO:tensorflow:loss = 1.18342e-06, step = 701 (0.096 sec)\n",
      "INFO:tensorflow:global_step/sec: 1281.24\n",
      "INFO:tensorflow:loss = 1.71504e-07, step = 801 (0.078 sec)\n",
      "INFO:tensorflow:global_step/sec: 1683.86\n",
      "INFO:tensorflow:loss = 3.33578e-08, step = 901 (0.060 sec)\n",
      "INFO:tensorflow:Saving checkpoints for 1000 into /tmp/tmprwyrovk4/model.ckpt.\n",
      "INFO:tensorflow:Loss for final step: 4.81695e-09.\n",
      "WARNING:tensorflow:From /home/bulat/anaconda3/lib/python3.6/site-packages/tensorflow/contrib/learn/python/learn/estimators/head.py:625: scalar_summary (from tensorflow.python.ops.logging_ops) is deprecated and will be removed after 2016-11-30.\n",
      "Instructions for updating:\n",
      "Please switch to tf.summary.scalar. Note that tf.summary.scalar uses the node name instead of the tag. This means that TensorFlow will automatically de-duplicate summary names based on the scope they are created in. Also, passing a tensor or list of tags to a scalar summary op is no longer supported.\n",
      "INFO:tensorflow:Starting evaluation at 2017-07-14-13:38:43\n",
      "INFO:tensorflow:Restoring parameters from /tmp/tmprwyrovk4/model.ckpt-1000\n",
      "INFO:tensorflow:Finished evaluation at 2017-07-14-13:38:44\n",
      "INFO:tensorflow:Saving dict for global step 1000: global_step = 1000, loss = 6.60674e-09\n",
      "WARNING:tensorflow:From /home/bulat/anaconda3/lib/python3.6/site-packages/tensorflow/contrib/learn/python/learn/estimators/head.py:625: scalar_summary (from tensorflow.python.ops.logging_ops) is deprecated and will be removed after 2016-11-30.\n",
      "Instructions for updating:\n",
      "Please switch to tf.summary.scalar. Note that tf.summary.scalar uses the node name instead of the tag. This means that TensorFlow will automatically de-duplicate summary names based on the scope they are created in. Also, passing a tensor or list of tags to a scalar summary op is no longer supported.\n",
      "INFO:tensorflow:Starting evaluation at 2017-07-14-13:38:44\n",
      "INFO:tensorflow:Restoring parameters from /tmp/tmprwyrovk4/model.ckpt-1000\n",
      "INFO:tensorflow:Finished evaluation at 2017-07-14-13:38:44\n",
      "INFO:tensorflow:Saving dict for global step 1000: global_step = 1000, loss = 0.00253365\n",
      "train loss: {'loss': 6.6067365e-09, 'global_step': 1000}\n",
      "eval loss: {'loss': 0.0025336451, 'global_step': 1000}\n"
     ]
    }
   ],
   "source": [
    "x_train = np.array([1., 2., 3., 4.])\n",
    "y_train = np.array([0., -1., -2., -3.])\n",
    "x_eval = np.array([2., 5., 8., 1.])\n",
    "y_eval = np.array([-1.01, -4.1, -7, 0.])\n",
    "input_fn = tf.contrib.learn.io.numpy_input_fn({\"x\":x_train}, y_train,\n",
    "                                              batch_size=4,\n",
    "                                              num_epochs=1000)\n",
    "eval_input_fn = tf.contrib.learn.io.numpy_input_fn(\n",
    "    {\"x\":x_eval}, y_eval, batch_size=4, num_epochs=1000)\n",
    "\n",
    "# We can invoke 1000 training steps by invoking the  method and passing the\n",
    "# training data set.\n",
    "estimator.fit(input_fn=input_fn, steps=1000)\n",
    "\n",
    "# Here we evaluate how well our model did.\n",
    "train_loss = estimator.evaluate(input_fn=input_fn)\n",
    "eval_loss = estimator.evaluate(input_fn=eval_input_fn)\n",
    "print(\"train loss: %r\"% train_loss)\n",
    "print(\"eval loss: %r\"% eval_loss)\n"
   ]
  },
  {
   "cell_type": "code",
   "execution_count": null,
   "metadata": {
    "collapsed": true
   },
   "outputs": [],
   "source": []
  }
 ],
 "metadata": {
  "kernelspec": {
   "display_name": "Python 3",
   "language": "python",
   "name": "python3"
  },
  "language_info": {
   "codemirror_mode": {
    "name": "ipython",
    "version": 3
   },
   "file_extension": ".py",
   "mimetype": "text/x-python",
   "name": "python",
   "nbconvert_exporter": "python",
   "pygments_lexer": "ipython3",
   "version": "3.6.1"
  }
 },
 "nbformat": 4,
 "nbformat_minor": 2
}
